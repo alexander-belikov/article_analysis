{
 "cells": [
  {
   "cell_type": "code",
   "execution_count": 1,
   "metadata": {},
   "outputs": [],
   "source": [
    "import json\n",
    "import gzip\n",
    "import pickle\n",
    "from os.path import join, expanduser\n",
    "import numpy as np\n",
    "import pandas as pd\n",
    "import article_analysis.parse as aap"
   ]
  },
  {
   "cell_type": "code",
   "execution_count": 2,
   "metadata": {},
   "outputs": [],
   "source": [
    "input_path = expanduser('~/data/jstor/latest/')\n",
    "output_path = expanduser('~/data/jstor/latest/')"
   ]
  },
  {
   "cell_type": "code",
   "execution_count": 3,
   "metadata": {},
   "outputs": [],
   "source": [
    "suffix = 'pgz'\n",
    "prefix = 'ngrams_dict'\n",
    "indx = aap.get_indices(input_path, prefix, suffix)\n",
    "\n",
    "input_path = expanduser('~/data/jstor/latest/')\n",
    "output_path = input_path\n",
    "registry = {}\n",
    "\n",
    "for ii in indx[:]:\n",
    "    chunk = aap.get_chunk(input_path, prefix, ii)\n",
    "    registry[ii] = sorted(list(chunk.keys()))"
   ]
  },
  {
   "cell_type": "code",
   "execution_count": 4,
   "metadata": {},
   "outputs": [],
   "source": [
    "with open(join(output_path, 'registry_json.txt'), 'w') as file:\n",
    "     file.write(json.dumps(registry, indent=4, sort_keys=True))"
   ]
  },
  {
   "cell_type": "code",
   "execution_count": 15,
   "metadata": {},
   "outputs": [],
   "source": [
    "with open(join(output_path, 'registry_json.txt')) as file:\n",
    "    check_dict = json.loads(file.read())"
   ]
  },
  {
   "cell_type": "code",
   "execution_count": 16,
   "metadata": {},
   "outputs": [
    {
     "data": {
      "text/plain": [
       "dict_keys(['0'])"
      ]
     },
     "execution_count": 16,
     "metadata": {},
     "output_type": "execute_result"
    }
   ],
   "source": [
    "check_dict.keys()"
   ]
  },
  {
   "cell_type": "code",
   "execution_count": null,
   "metadata": {},
   "outputs": [],
   "source": []
  }
 ],
 "metadata": {
  "kernelspec": {
   "display_name": "Python 3",
   "language": "python",
   "name": "python3"
  },
  "language_info": {
   "codemirror_mode": {
    "name": "ipython",
    "version": 3
   },
   "file_extension": ".py",
   "mimetype": "text/x-python",
   "name": "python",
   "nbconvert_exporter": "python",
   "pygments_lexer": "ipython3",
   "version": "3.6.6"
  }
 },
 "nbformat": 4,
 "nbformat_minor": 2
}
