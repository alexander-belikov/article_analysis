{
 "cells": [
  {
   "cell_type": "code",
   "execution_count": 1,
   "metadata": {},
   "outputs": [],
   "source": [
    "import pandas as pd\n",
    "import numpy as np\n",
    "from scipy.stats import trim_mean, kurtosis\n",
    "from scipy.stats.mstats import mode, gmean, hmean\n",
    "from sklearn.decomposition import FactorAnalysis\n",
    "import matplotlib.pyplot as plt\n",
    "from ast import literal_eval\n",
    "from os.path import expanduser\n",
    "import seaborn as sns\n",
    "import os"
   ]
  },
  {
   "cell_type": "code",
   "execution_count": 3,
   "metadata": {},
   "outputs": [],
   "source": [
    "plt.style.use('seaborn-whitegrid')"
   ]
  },
  {
   "cell_type": "code",
   "execution_count": 2,
   "metadata": {},
   "outputs": [
    {
     "name": "stderr",
     "output_type": "stream",
     "text": [
      "/Users/belikov/anaconda/envs/aa/lib/python3.6/site-packages/numpy/lib/arraysetops.py:569: FutureWarning: elementwise comparison failed; returning scalar instead, but in the future will perform elementwise comparison\n",
      "  mask |= (ar1 == a)\n"
     ]
    }
   ],
   "source": [
    "# df = pd.read_csv(expanduser('~/RE_Project/amj_ngrams/latest_listagg/np_stats.csv.gz'), index_col=0)\n",
    "df_ = pd.read_csv(expanduser('~/data/jstor/stats/np_stats.csv.gz'), index_col=0)\n",
    "df = df_.copy()"
   ]
  },
  {
   "cell_type": "code",
   "execution_count": 3,
   "metadata": {},
   "outputs": [
    {
     "data": {
      "text/plain": [
       "(1684658, 11)"
      ]
     },
     "execution_count": 3,
     "metadata": {},
     "output_type": "execute_result"
    }
   ],
   "source": [
    "df.shape"
   ]
  },
  {
   "cell_type": "code",
   "execution_count": 4,
   "metadata": {},
   "outputs": [
    {
     "data": {
      "text/html": [
       "<div>\n",
       "<style scoped>\n",
       "    .dataframe tbody tr th:only-of-type {\n",
       "        vertical-align: middle;\n",
       "    }\n",
       "\n",
       "    .dataframe tbody tr th {\n",
       "        vertical-align: top;\n",
       "    }\n",
       "\n",
       "    .dataframe thead th {\n",
       "        text-align: right;\n",
       "    }\n",
       "</style>\n",
       "<table border=\"1\" class=\"dataframe\">\n",
       "  <thead>\n",
       "    <tr style=\"text-align: right;\">\n",
       "      <th></th>\n",
       "      <th>np</th>\n",
       "      <th>doi</th>\n",
       "      <th>root</th>\n",
       "      <th>n_words</th>\n",
       "      <th>n_phrases</th>\n",
       "      <th>np_first_occ</th>\n",
       "      <th>root_first_occ</th>\n",
       "      <th>np_count.table</th>\n",
       "      <th>np_count.and_ig_ig</th>\n",
       "      <th>np_count.andnot_and_ig</th>\n",
       "      <th>np_count.andnot_andnot_and</th>\n",
       "    </tr>\n",
       "  </thead>\n",
       "  <tbody>\n",
       "    <tr>\n",
       "      <th>0</th>\n",
       "      <td>('business',)</td>\n",
       "      <td>10.1525/sop.2004.47.2.189</td>\n",
       "      <td>business</td>\n",
       "      <td>14374</td>\n",
       "      <td>683</td>\n",
       "      <td>0.134615</td>\n",
       "      <td>0.134615</td>\n",
       "      <td>0.0</td>\n",
       "      <td>2.0</td>\n",
       "      <td>0.0</td>\n",
       "      <td>4.0</td>\n",
       "    </tr>\n",
       "    <tr>\n",
       "      <th>1</th>\n",
       "      <td>('table',)</td>\n",
       "      <td>10.1525/sop.2004.47.2.189</td>\n",
       "      <td>table</td>\n",
       "      <td>14374</td>\n",
       "      <td>683</td>\n",
       "      <td>0.165680</td>\n",
       "      <td>0.134615</td>\n",
       "      <td>0.0</td>\n",
       "      <td>2.0</td>\n",
       "      <td>0.0</td>\n",
       "      <td>0.0</td>\n",
       "    </tr>\n",
       "    <tr>\n",
       "      <th>2</th>\n",
       "      <td>('respondent',)</td>\n",
       "      <td>10.1525/sop.2004.47.2.189</td>\n",
       "      <td>respondent</td>\n",
       "      <td>14374</td>\n",
       "      <td>683</td>\n",
       "      <td>0.029586</td>\n",
       "      <td>0.029586</td>\n",
       "      <td>1.0</td>\n",
       "      <td>2.0</td>\n",
       "      <td>2.0</td>\n",
       "      <td>37.0</td>\n",
       "    </tr>\n",
       "    <tr>\n",
       "      <th>3</th>\n",
       "      <td>('majority',)</td>\n",
       "      <td>10.1525/sop.2004.47.2.189</td>\n",
       "      <td>majority</td>\n",
       "      <td>14374</td>\n",
       "      <td>683</td>\n",
       "      <td>0.031065</td>\n",
       "      <td>0.031065</td>\n",
       "      <td>0.0</td>\n",
       "      <td>1.0</td>\n",
       "      <td>0.0</td>\n",
       "      <td>9.0</td>\n",
       "    </tr>\n",
       "    <tr>\n",
       "      <th>4</th>\n",
       "      <td>('man',)</td>\n",
       "      <td>10.1525/sop.2004.47.2.189</td>\n",
       "      <td>man</td>\n",
       "      <td>14374</td>\n",
       "      <td>683</td>\n",
       "      <td>0.062130</td>\n",
       "      <td>0.062130</td>\n",
       "      <td>0.0</td>\n",
       "      <td>1.0</td>\n",
       "      <td>0.0</td>\n",
       "      <td>43.0</td>\n",
       "    </tr>\n",
       "  </tbody>\n",
       "</table>\n",
       "</div>"
      ],
      "text/plain": [
       "                np                        doi        root  n_words  n_phrases  \\\n",
       "0    ('business',)  10.1525/sop.2004.47.2.189    business    14374        683   \n",
       "1       ('table',)  10.1525/sop.2004.47.2.189       table    14374        683   \n",
       "2  ('respondent',)  10.1525/sop.2004.47.2.189  respondent    14374        683   \n",
       "3    ('majority',)  10.1525/sop.2004.47.2.189    majority    14374        683   \n",
       "4         ('man',)  10.1525/sop.2004.47.2.189         man    14374        683   \n",
       "\n",
       "   np_first_occ  root_first_occ  np_count.table  np_count.and_ig_ig  \\\n",
       "0      0.134615        0.134615             0.0                 2.0   \n",
       "1      0.165680        0.134615             0.0                 2.0   \n",
       "2      0.029586        0.029586             1.0                 2.0   \n",
       "3      0.031065        0.031065             0.0                 1.0   \n",
       "4      0.062130        0.062130             0.0                 1.0   \n",
       "\n",
       "   np_count.andnot_and_ig  np_count.andnot_andnot_and  \n",
       "0                     0.0                         4.0  \n",
       "1                     0.0                         0.0  \n",
       "2                     2.0                        37.0  \n",
       "3                     0.0                         9.0  \n",
       "4                     0.0                        43.0  "
      ]
     },
     "execution_count": 4,
     "metadata": {},
     "output_type": "execute_result"
    }
   ],
   "source": [
    "df.head()"
   ]
  },
  {
   "cell_type": "code",
   "execution_count": 5,
   "metadata": {},
   "outputs": [],
   "source": [
    "dfc = df.groupby('doi').apply(lambda x: all(x['np_count.table'] == 0))"
   ]
  },
  {
   "cell_type": "code",
   "execution_count": 6,
   "metadata": {},
   "outputs": [
    {
     "data": {
      "text/plain": [
       "doi\n",
       "10.1086/210044    True\n",
       "10.1086/210138    True\n",
       "10.1086/210179    True\n",
       "10.1086/210220    True\n",
       "10.1086/210316    True\n",
       "dtype: bool"
      ]
     },
     "execution_count": 6,
     "metadata": {},
     "output_type": "execute_result"
    }
   ],
   "source": [
    "dfc.head()"
   ]
  },
  {
   "cell_type": "code",
   "execution_count": 7,
   "metadata": {},
   "outputs": [
    {
     "data": {
      "text/plain": [
       "0.5528626624517036"
      ]
     },
     "execution_count": 7,
     "metadata": {},
     "output_type": "execute_result"
    }
   ],
   "source": [
    "sum(dfc)/dfc.shape[0]"
   ]
  },
  {
   "cell_type": "code",
   "execution_count": 8,
   "metadata": {},
   "outputs": [
    {
     "data": {
      "text/plain": [
       "18049"
      ]
     },
     "execution_count": 8,
     "metadata": {},
     "output_type": "execute_result"
    }
   ],
   "source": [
    "sum(df['np_count.table'] != 0)"
   ]
  },
  {
   "cell_type": "code",
   "execution_count": 9,
   "metadata": {},
   "outputs": [
    {
     "data": {
      "text/plain": [
       "3012"
      ]
     },
     "execution_count": 9,
     "metadata": {},
     "output_type": "execute_result"
    }
   ],
   "source": [
    "len(df.loc[df['np_count.table'] != 0, 'root'].unique())"
   ]
  },
  {
   "cell_type": "code",
   "execution_count": 10,
   "metadata": {},
   "outputs": [
    {
     "ename": "NameError",
     "evalue": "name 'df2' is not defined",
     "output_type": "error",
     "traceback": [
      "\u001b[0;31m---------------------------------------------------------------------------\u001b[0m",
      "\u001b[0;31mNameError\u001b[0m                                 Traceback (most recent call last)",
      "\u001b[0;32m<ipython-input-10-53a48a625173>\u001b[0m in \u001b[0;36m<module>\u001b[0;34m\u001b[0m\n\u001b[1;32m      1\u001b[0m \u001b[0mmask\u001b[0m \u001b[0;34m=\u001b[0m \u001b[0;34m(\u001b[0m\u001b[0;34m(\u001b[0m\u001b[0mdf\u001b[0m\u001b[0;34m[\u001b[0m\u001b[0;34m'np_count.andnot_and_ig'\u001b[0m\u001b[0;34m]\u001b[0m \u001b[0;34m!=\u001b[0m \u001b[0;36m0\u001b[0m\u001b[0;34m)\u001b[0m \u001b[0;34m|\u001b[0m \u001b[0;34m(\u001b[0m\u001b[0mdf\u001b[0m\u001b[0;34m[\u001b[0m\u001b[0;34m'np_count.and_ig_ig'\u001b[0m\u001b[0;34m]\u001b[0m \u001b[0;34m!=\u001b[0m \u001b[0;36m0\u001b[0m\u001b[0;34m)\u001b[0m \u001b[0;34m|\u001b[0m \u001b[0;34m(\u001b[0m\u001b[0mdf\u001b[0m\u001b[0;34m[\u001b[0m\u001b[0;34m'np_count.table'\u001b[0m\u001b[0;34m]\u001b[0m \u001b[0;34m!=\u001b[0m \u001b[0;36m0\u001b[0m\u001b[0;34m)\u001b[0m\u001b[0;34m)\u001b[0m\u001b[0;34m\u001b[0m\u001b[0;34m\u001b[0m\u001b[0m\n\u001b[1;32m      2\u001b[0m \u001b[0mdf\u001b[0m \u001b[0;34m=\u001b[0m \u001b[0mdf\u001b[0m\u001b[0;34m.\u001b[0m\u001b[0mloc\u001b[0m\u001b[0;34m[\u001b[0m\u001b[0mmask\u001b[0m\u001b[0;34m]\u001b[0m\u001b[0;34m.\u001b[0m\u001b[0mcopy\u001b[0m\u001b[0;34m(\u001b[0m\u001b[0;34m)\u001b[0m\u001b[0;34m\u001b[0m\u001b[0;34m\u001b[0m\u001b[0m\n\u001b[0;32m----> 3\u001b[0;31m \u001b[0mdf2\u001b[0m\u001b[0;34m.\u001b[0m\u001b[0mshape\u001b[0m\u001b[0;34m,\u001b[0m \u001b[0mdf\u001b[0m\u001b[0;34m.\u001b[0m\u001b[0mshape\u001b[0m\u001b[0;34m\u001b[0m\u001b[0;34m\u001b[0m\u001b[0m\n\u001b[0m",
      "\u001b[0;31mNameError\u001b[0m: name 'df2' is not defined"
     ]
    }
   ],
   "source": [
    "mask = ((df['np_count.andnot_and_ig'] != 0) | (df['np_count.and_ig_ig'] != 0) | (df['np_count.table'] != 0))\n",
    "df = df.loc[mask].copy()\n",
    "# df2.shape, df.shape"
   ]
  },
  {
   "cell_type": "code",
   "execution_count": 12,
   "metadata": {},
   "outputs": [],
   "source": [
    "#Remove papers without noun_phrases and get descriptive stats\n",
    "mask_null = df['np'].isnull()\n",
    "df1 = df.loc[~mask_null]\n",
    "df1 = df1.dropna()"
   ]
  },
  {
   "cell_type": "code",
   "execution_count": 13,
   "metadata": {},
   "outputs": [
    {
     "data": {
      "text/html": [
       "<div>\n",
       "<style scoped>\n",
       "    .dataframe tbody tr th:only-of-type {\n",
       "        vertical-align: middle;\n",
       "    }\n",
       "\n",
       "    .dataframe tbody tr th {\n",
       "        vertical-align: top;\n",
       "    }\n",
       "\n",
       "    .dataframe thead th {\n",
       "        text-align: right;\n",
       "    }\n",
       "</style>\n",
       "<table border=\"1\" class=\"dataframe\">\n",
       "  <thead>\n",
       "    <tr style=\"text-align: right;\">\n",
       "      <th></th>\n",
       "      <th>np_first_occ</th>\n",
       "      <th>root_first_occ</th>\n",
       "      <th>np_count.table</th>\n",
       "      <th>np_count.and_ig_ig</th>\n",
       "      <th>np_count.andnot_and_ig</th>\n",
       "      <th>np_count.andnot_andnot_and</th>\n",
       "    </tr>\n",
       "  </thead>\n",
       "  <tbody>\n",
       "    <tr>\n",
       "      <th>0</th>\n",
       "      <td>0.134615</td>\n",
       "      <td>0.134615</td>\n",
       "      <td>0.0</td>\n",
       "      <td>2.0</td>\n",
       "      <td>0.0</td>\n",
       "      <td>4.0</td>\n",
       "    </tr>\n",
       "    <tr>\n",
       "      <th>1</th>\n",
       "      <td>0.165680</td>\n",
       "      <td>0.134615</td>\n",
       "      <td>0.0</td>\n",
       "      <td>2.0</td>\n",
       "      <td>0.0</td>\n",
       "      <td>0.0</td>\n",
       "    </tr>\n",
       "    <tr>\n",
       "      <th>2</th>\n",
       "      <td>0.029586</td>\n",
       "      <td>0.029586</td>\n",
       "      <td>1.0</td>\n",
       "      <td>2.0</td>\n",
       "      <td>2.0</td>\n",
       "      <td>37.0</td>\n",
       "    </tr>\n",
       "    <tr>\n",
       "      <th>3</th>\n",
       "      <td>0.031065</td>\n",
       "      <td>0.031065</td>\n",
       "      <td>0.0</td>\n",
       "      <td>1.0</td>\n",
       "      <td>0.0</td>\n",
       "      <td>9.0</td>\n",
       "    </tr>\n",
       "    <tr>\n",
       "      <th>4</th>\n",
       "      <td>0.062130</td>\n",
       "      <td>0.062130</td>\n",
       "      <td>0.0</td>\n",
       "      <td>1.0</td>\n",
       "      <td>0.0</td>\n",
       "      <td>43.0</td>\n",
       "    </tr>\n",
       "  </tbody>\n",
       "</table>\n",
       "</div>"
      ],
      "text/plain": [
       "   np_first_occ  root_first_occ  np_count.table  np_count.and_ig_ig  \\\n",
       "0      0.134615        0.134615             0.0                 2.0   \n",
       "1      0.165680        0.134615             0.0                 2.0   \n",
       "2      0.029586        0.029586             1.0                 2.0   \n",
       "3      0.031065        0.031065             0.0                 1.0   \n",
       "4      0.062130        0.062130             0.0                 1.0   \n",
       "\n",
       "   np_count.andnot_and_ig  np_count.andnot_andnot_and  \n",
       "0                     0.0                         4.0  \n",
       "1                     0.0                         0.0  \n",
       "2                     2.0                        37.0  \n",
       "3                     0.0                         9.0  \n",
       "4                     0.0                        43.0  "
      ]
     },
     "execution_count": 13,
     "metadata": {},
     "output_type": "execute_result"
    }
   ],
   "source": [
    "#Select variables for factor analysis\n",
    "df2 = df[['np_first_occ','root_first_occ','np_count.table','np_count.and_ig_ig','np_count.andnot_and_ig','np_count.andnot_andnot_and']]\n",
    "#Remove records with missing values\n",
    "df2.head()"
   ]
  },
  {
   "cell_type": "code",
   "execution_count": 14,
   "metadata": {},
   "outputs": [
    {
     "data": {
      "text/html": [
       "<div>\n",
       "<style scoped>\n",
       "    .dataframe tbody tr th:only-of-type {\n",
       "        vertical-align: middle;\n",
       "    }\n",
       "\n",
       "    .dataframe tbody tr th {\n",
       "        vertical-align: top;\n",
       "    }\n",
       "\n",
       "    .dataframe thead th {\n",
       "        text-align: right;\n",
       "    }\n",
       "</style>\n",
       "<table border=\"1\" class=\"dataframe\">\n",
       "  <thead>\n",
       "    <tr style=\"text-align: right;\">\n",
       "      <th></th>\n",
       "      <th>np_first_occ</th>\n",
       "      <th>root_first_occ</th>\n",
       "      <th>np_count.table</th>\n",
       "      <th>np_count.and_ig_ig</th>\n",
       "      <th>np_count.andnot_and_ig</th>\n",
       "      <th>np_count.andnot_andnot_and</th>\n",
       "    </tr>\n",
       "  </thead>\n",
       "  <tbody>\n",
       "    <tr>\n",
       "      <th>np_first_occ</th>\n",
       "      <td>1.000000</td>\n",
       "      <td>0.667219</td>\n",
       "      <td>-0.023609</td>\n",
       "      <td>-0.116872</td>\n",
       "      <td>-0.178234</td>\n",
       "      <td>-0.347520</td>\n",
       "    </tr>\n",
       "    <tr>\n",
       "      <th>root_first_occ</th>\n",
       "      <td>0.667219</td>\n",
       "      <td>1.000000</td>\n",
       "      <td>-0.000055</td>\n",
       "      <td>-0.054532</td>\n",
       "      <td>-0.129278</td>\n",
       "      <td>-0.234515</td>\n",
       "    </tr>\n",
       "    <tr>\n",
       "      <th>np_count.table</th>\n",
       "      <td>-0.023609</td>\n",
       "      <td>-0.000055</td>\n",
       "      <td>1.000000</td>\n",
       "      <td>-0.005923</td>\n",
       "      <td>0.006872</td>\n",
       "      <td>0.089593</td>\n",
       "    </tr>\n",
       "    <tr>\n",
       "      <th>np_count.and_ig_ig</th>\n",
       "      <td>-0.116872</td>\n",
       "      <td>-0.054532</td>\n",
       "      <td>-0.005923</td>\n",
       "      <td>1.000000</td>\n",
       "      <td>-0.080307</td>\n",
       "      <td>0.236160</td>\n",
       "    </tr>\n",
       "    <tr>\n",
       "      <th>np_count.andnot_and_ig</th>\n",
       "      <td>-0.178234</td>\n",
       "      <td>-0.129278</td>\n",
       "      <td>0.006872</td>\n",
       "      <td>-0.080307</td>\n",
       "      <td>1.000000</td>\n",
       "      <td>0.357275</td>\n",
       "    </tr>\n",
       "    <tr>\n",
       "      <th>np_count.andnot_andnot_and</th>\n",
       "      <td>-0.347520</td>\n",
       "      <td>-0.234515</td>\n",
       "      <td>0.089593</td>\n",
       "      <td>0.236160</td>\n",
       "      <td>0.357275</td>\n",
       "      <td>1.000000</td>\n",
       "    </tr>\n",
       "  </tbody>\n",
       "</table>\n",
       "</div>"
      ],
      "text/plain": [
       "                            np_first_occ  root_first_occ  np_count.table  \\\n",
       "np_first_occ                    1.000000        0.667219       -0.023609   \n",
       "root_first_occ                  0.667219        1.000000       -0.000055   \n",
       "np_count.table                 -0.023609       -0.000055        1.000000   \n",
       "np_count.and_ig_ig             -0.116872       -0.054532       -0.005923   \n",
       "np_count.andnot_and_ig         -0.178234       -0.129278        0.006872   \n",
       "np_count.andnot_andnot_and     -0.347520       -0.234515        0.089593   \n",
       "\n",
       "                            np_count.and_ig_ig  np_count.andnot_and_ig  \\\n",
       "np_first_occ                         -0.116872               -0.178234   \n",
       "root_first_occ                       -0.054532               -0.129278   \n",
       "np_count.table                       -0.005923                0.006872   \n",
       "np_count.and_ig_ig                    1.000000               -0.080307   \n",
       "np_count.andnot_and_ig               -0.080307                1.000000   \n",
       "np_count.andnot_andnot_and            0.236160                0.357275   \n",
       "\n",
       "                            np_count.andnot_andnot_and  \n",
       "np_first_occ                                 -0.347520  \n",
       "root_first_occ                               -0.234515  \n",
       "np_count.table                                0.089593  \n",
       "np_count.and_ig_ig                            0.236160  \n",
       "np_count.andnot_and_ig                        0.357275  \n",
       "np_count.andnot_andnot_and                    1.000000  "
      ]
     },
     "execution_count": 14,
     "metadata": {},
     "output_type": "execute_result"
    }
   ],
   "source": [
    "#Calculate correlations\n",
    "df2.corr()"
   ]
  },
  {
   "cell_type": "code",
   "execution_count": 39,
   "metadata": {},
   "outputs": [
    {
     "data": {
      "image/png": "[encoded data removed]",
      "text/plain": [
       "<Figure size 432x288 with 2 Axes>"
      ]
     },
     "metadata": {
      "needs_background": "light"
     },
     "output_type": "display_data"
    }
   ],
   "source": [
    "#Calculate and plot correlation coefficients\n",
    "df1_corr = df2.corr()\n",
    "fig = plt.figure()\n",
    "ax = fig.add_subplot(111)\n",
    "cax = ax.matshow(df1_corr,cmap='coolwarm', vmin=-1, vmax=1)\n",
    "fig.colorbar(cax)\n",
    "ticks = np.arange(0,len(df2.columns),1)\n",
    "ax.set_xticks(ticks)\n",
    "plt.xticks(rotation=90)\n",
    "ax.set_yticks(ticks)\n",
    "ax.set_xticklabels(df2.columns)\n",
    "ax.set_yticklabels(df2.columns)\n",
    "plt.show()"
   ]
  },
  {
   "cell_type": "code",
   "execution_count": 40,
   "metadata": {},
   "outputs": [
    {
     "data": {
      "text/plain": [
       "Index(['np_first_occ', 'root_first_occ', 'np_count.table',\n",
       "       'np_count.and_ig_ig', 'np_count.andnot_and_ig',\n",
       "       'np_count.andnot_andnot_and'],\n",
       "      dtype='object')"
      ]
     },
     "execution_count": 40,
     "metadata": {},
     "output_type": "execute_result"
    }
   ],
   "source": [
    "df2.columns"
   ]
  },
  {
   "cell_type": "code",
   "execution_count": 42,
   "metadata": {},
   "outputs": [],
   "source": [
    "#factor analysis\n",
    "ccols = ['np_first_occ', 'root_first_occ', 'np_count.table',\n",
    "       'np_count.and_ig_ig', 'np_count.andnot_and_ig']\n",
    "df3 = df2[ccols].sample(50000)\n",
    "df3 = df3.dropna()\n",
    "fact_2c = FactorAnalysis(n_components=2)\n",
    "df3_factor = fact_2c.fit_transform(df3)"
   ]
  },
  {
   "cell_type": "code",
   "execution_count": 43,
   "metadata": {},
   "outputs": [
    {
     "name": "stdout",
     "output_type": "stream",
     "text": [
      "[[ 0.18208894  0.12055478 -0.01531709 -0.17323887 -0.14029634]\n",
      " [ 0.00265888  0.00844189 -0.00536631  0.96736021 -0.11498755]]\n"
     ]
    },
    {
     "data": {
      "image/png": "[encoded data removed]",
      "text/plain": [
       "<Figure size 432x288 with 1 Axes>"
      ]
     },
     "metadata": {
      "needs_background": "light"
     },
     "output_type": "display_data"
    },
    {
     "data": {
      "text/plain": [
       "<matplotlib.axes._subplots.AxesSubplot at 0x1a1e605828>"
      ]
     },
     "execution_count": 43,
     "metadata": {},
     "output_type": "execute_result"
    },
    {
     "data": {
      "image/png": "[encoded data removed]",
      "text/plain": [
       "<Figure size 432x288 with 1 Axes>"
      ]
     },
     "metadata": {
      "needs_background": "light"
     },
     "output_type": "display_data"
    }
   ],
   "source": [
    "#Plot NPs in the factor space\n",
    "plt.scatter(df3_factor[:,0], df3_factor[:,1], alpha=.8, edgecolors='none')\n",
    "print(fact_2c.components_)\n",
    "plt.show()\n",
    "dfc = pd.DataFrame(fact_2c.components_.T, index=ccols, columns=['v1', 'v2']).unstack().reset_index()\n",
    "dfc = dfc.rename(columns={'level_0': 'components', 'level_1': 'feature', 0: 'projection'})\n",
    "sns.barplot(data=dfc, x='feature', y='projection', hue='components')"
   ]
  },
  {
   "cell_type": "code",
   "execution_count": 44,
   "metadata": {},
   "outputs": [],
   "source": [
    "#factor analysis\n",
    "ccols =['np_first_occ','root_first_occ','np_count.table','np_count.and_ig_ig', 'np_count.andnot_and_ig']\n",
    "df3 = df2[ccols].sample(50000)\n",
    "df3 = df3.dropna()\n",
    "fact_2c = FactorAnalysis(n_components=2)\n",
    "df3_factor = fact_2c.fit_transform(df3)"
   ]
  },
  {
   "cell_type": "code",
   "execution_count": 45,
   "metadata": {},
   "outputs": [
    {
     "name": "stdout",
     "output_type": "stream",
     "text": [
      "[[ 0.18250064  0.12074133 -0.01447649 -0.16898351 -0.1442181 ]\n",
      " [ 0.00238686  0.00843344 -0.00337946  0.96465189 -0.10568346]]\n"
     ]
    },
    {
     "data": {
      "image/png": "[encoded data removed]",
      "text/plain": [
       "<Figure size 432x288 with 1 Axes>"
      ]
     },
     "metadata": {
      "needs_background": "light"
     },
     "output_type": "display_data"
    },
    {
     "data": {
      "text/plain": [
       "<matplotlib.axes._subplots.AxesSubplot at 0x1a1f9417f0>"
      ]
     },
     "execution_count": 45,
     "metadata": {},
     "output_type": "execute_result"
    },
    {
     "data": {
      "image/png": "[encoded data removed]",
      "text/plain": [
       "<Figure size 432x288 with 1 Axes>"
      ]
     },
     "metadata": {
      "needs_background": "light"
     },
     "output_type": "display_data"
    }
   ],
   "source": [
    "#Plot NPs in the factor space\n",
    "plt.scatter(df3_factor[:,0], df3_factor[:,1], alpha=.8, edgecolors='none')\n",
    "print(fact_2c.components_)\n",
    "plt.show()\n",
    "dfc = pd.DataFrame(fact_2c.components_.T, index=ccols, columns=['v1', 'v2']).unstack().reset_index()\n",
    "dfc = dfc.rename(columns={'level_0': 'components', 'level_1': 'feature', 0: 'projection'})\n",
    "sns.barplot(data=dfc, x='feature', y='projection', hue='components')"
   ]
  },
  {
   "cell_type": "code",
   "execution_count": 46,
   "metadata": {},
   "outputs": [],
   "source": [
    "#factor analysis\n",
    "ccols = ['np_count.table','np_count.and_ig_ig', 'np_count.andnot_and_ig']\n",
    "df3 = df2[ccols].sample(50000)\n",
    "df3 = df3.dropna()\n",
    "fact_2c = FactorAnalysis(n_components=2)\n",
    "df3_factor = fact_2c.fit_transform(df3)"
   ]
  },
  {
   "cell_type": "code",
   "execution_count": 47,
   "metadata": {},
   "outputs": [
    {
     "name": "stdout",
     "output_type": "stream",
     "text": [
      "[[-0.00335667  0.85179441 -0.07583137]\n",
      " [ 0.03150146  0.00994303  0.06341942]]\n"
     ]
    },
    {
     "data": {
      "image/png": "[encoded data removed]",
      "text/plain": [
       "<Figure size 432x288 with 1 Axes>"
      ]
     },
     "metadata": {
      "needs_background": "light"
     },
     "output_type": "display_data"
    },
    {
     "data": {
      "text/plain": [
       "<matplotlib.axes._subplots.AxesSubplot at 0x1a1ac0da58>"
      ]
     },
     "execution_count": 47,
     "metadata": {},
     "output_type": "execute_result"
    },
    {
     "data": {
      "image/png": "[encoded data removed]",
      "text/plain": [
       "<Figure size 432x288 with 1 Axes>"
      ]
     },
     "metadata": {
      "needs_background": "light"
     },
     "output_type": "display_data"
    }
   ],
   "source": [
    "#Plot NPs in the factor space\n",
    "plt.scatter(df3_factor[:,0], df3_factor[:,1], alpha=.8, edgecolors='none')\n",
    "print(fact_2c.components_)\n",
    "plt.show()\n",
    "dfc = pd.DataFrame(fact_2c.components_.T, index=ccols, columns=['v1', 'v2']).unstack().reset_index()\n",
    "dfc = dfc.rename(columns={'level_0': 'components', 'level_1': 'feature', 0: 'projection'})\n",
    "sns.barplot(data=dfc, x='feature', y='projection', hue='components')"
   ]
  },
  {
   "cell_type": "code",
   "execution_count": 28,
   "metadata": {},
   "outputs": [],
   "source": [
    "roots = df.root.unique()"
   ]
  },
  {
   "cell_type": "code",
   "execution_count": 29,
   "metadata": {},
   "outputs": [
    {
     "data": {
      "text/plain": [
       "(10332,)"
      ]
     },
     "execution_count": 29,
     "metadata": {},
     "output_type": "execute_result"
    }
   ],
   "source": [
    "roots.shape"
   ]
  },
  {
   "cell_type": "code",
   "execution_count": 30,
   "metadata": {},
   "outputs": [
    {
     "data": {
      "text/plain": [
       "(1256, 5694)"
      ]
     },
     "execution_count": 30,
     "metadata": {},
     "output_type": "execute_result"
    }
   ],
   "source": [
    "# number of papers without candidates; number of papers\n",
    "sum(df['np'].isnull()), len(df['doi'].unique())"
   ]
  },
  {
   "cell_type": "code",
   "execution_count": 31,
   "metadata": {},
   "outputs": [],
   "source": [
    "# df.loc[df['np'].isnull(), 'doi'].to_csv(expanduser('~/RE_Project/amj_ngrams/latest_listagg/empty_papers.csv'))"
   ]
  },
  {
   "cell_type": "code",
   "execution_count": 32,
   "metadata": {},
   "outputs": [],
   "source": [
    "x = df['np_count.table']\n",
    "y = df['np_count.and_ig_ig']"
   ]
  },
  {
   "cell_type": "code",
   "execution_count": 33,
   "metadata": {},
   "outputs": [
    {
     "data": {
      "image/png": "[encoded data removed]",
      "text/plain": [
       "<Figure size 432x288 with 1 Axes>"
      ]
     },
     "metadata": {
      "needs_background": "light"
     },
     "output_type": "display_data"
    }
   ],
   "source": [
    "plt.scatter(x, y, alpha=0.1)\n",
    "plt.show()"
   ]
  },
  {
   "cell_type": "code",
   "execution_count": 17,
   "metadata": {},
   "outputs": [
    {
     "name": "stderr",
     "output_type": "stream",
     "text": [
      "/usr/local/lib/python3.5/dist-packages/ipykernel_launcher.py:1: SettingWithCopyWarning: \n",
      "A value is trying to be set on a copy of a slice from a DataFrame.\n",
      "Try using .loc[row_indexer,col_indexer] = value instead\n",
      "\n",
      "See the caveats in the documentation: http://pandas.pydata.org/pandas-docs/stable/indexing.html#indexing-view-versus-copy\n",
      "  \"\"\"Entry point for launching an IPython kernel.\n"
     ]
    }
   ],
   "source": [
    "df2['np'] = df2['np'].apply(lambda x: literal_eval(x))"
   ]
  },
  {
   "cell_type": "code",
   "execution_count": 18,
   "metadata": {},
   "outputs": [
    {
     "data": {
      "text/plain": [
       "1021494"
      ]
     },
     "execution_count": 18,
     "metadata": {},
     "output_type": "execute_result"
    }
   ],
   "source": [
    "mask_long = df2['np'].apply(lambda x: len(list(x)) > 1)\n",
    "sum(mask_long)"
   ]
  },
  {
   "cell_type": "code",
   "execution_count": 19,
   "metadata": {
    "collapsed": true
   },
   "outputs": [],
   "source": [
    "df3 = df2.loc[mask_long]"
   ]
  },
  {
   "cell_type": "code",
   "execution_count": 20,
   "metadata": {},
   "outputs": [
    {
     "data": {
      "text/plain": [
       "<matplotlib.collections.PathCollection at 0x7f197bf0beb8>"
      ]
     },
     "execution_count": 20,
     "metadata": {},
     "output_type": "execute_result"
    }
   ],
   "source": [
    "x = df3['np_count.table']\n",
    "y = df3['np_count.and_ig_ig']\n",
    "plt.scatter(x, y, alpha=0.1, s=50)"
   ]
  },
  {
   "cell_type": "code",
   "execution_count": 16,
   "metadata": {},
   "outputs": [
    {
     "ename": "NameError",
     "evalue": "name 'df3' is not defined",
     "output_type": "error",
     "traceback": [
      "\u001b[0;31m---------------------------------------------------------------------------\u001b[0m",
      "\u001b[0;31mNameError\u001b[0m                                 Traceback (most recent call last)",
      "\u001b[0;32m<ipython-input-16-edbe619ccc38>\u001b[0m in \u001b[0;36m<module>\u001b[0;34m()\u001b[0m\n\u001b[0;32m----> 1\u001b[0;31m \u001b[0mx\u001b[0m \u001b[0;34m=\u001b[0m \u001b[0mdf3\u001b[0m\u001b[0;34m[\u001b[0m\u001b[0;34m'np_first_occ'\u001b[0m\u001b[0;34m]\u001b[0m\u001b[0;34m\u001b[0m\u001b[0m\n\u001b[0m\u001b[1;32m      2\u001b[0m \u001b[0my\u001b[0m \u001b[0;34m=\u001b[0m \u001b[0mdf3\u001b[0m\u001b[0;34m[\u001b[0m\u001b[0;34m'np_count.and_ig_ig'\u001b[0m\u001b[0;34m]\u001b[0m\u001b[0;34m\u001b[0m\u001b[0m\n\u001b[1;32m      3\u001b[0m \u001b[0mplt\u001b[0m\u001b[0;34m.\u001b[0m\u001b[0mscatter\u001b[0m\u001b[0;34m(\u001b[0m\u001b[0mx\u001b[0m\u001b[0;34m,\u001b[0m \u001b[0my\u001b[0m\u001b[0;34m,\u001b[0m \u001b[0malpha\u001b[0m\u001b[0;34m=\u001b[0m\u001b[0;36m0.1\u001b[0m\u001b[0;34m,\u001b[0m \u001b[0ms\u001b[0m\u001b[0;34m=\u001b[0m\u001b[0;36m10\u001b[0m\u001b[0;34m)\u001b[0m\u001b[0;34m\u001b[0m\u001b[0m\n\u001b[1;32m      4\u001b[0m \u001b[0mplt\u001b[0m\u001b[0;34m.\u001b[0m\u001b[0mshow\u001b[0m\u001b[0;34m(\u001b[0m\u001b[0;34m)\u001b[0m\u001b[0;34m\u001b[0m\u001b[0m\n",
      "\u001b[0;31mNameError\u001b[0m: name 'df3' is not defined"
     ]
    }
   ],
   "source": [
    "x = df3['np_first_occ']\n",
    "y = df3['np_count.and_ig_ig']\n",
    "plt.scatter(x, y, alpha=0.1, s=10)\n",
    "plt.show()"
   ]
  },
  {
   "cell_type": "code",
   "execution_count": 19,
   "metadata": {
    "collapsed": true
   },
   "outputs": [],
   "source": [
    "lens = df2['np'].apply(lambda x: len(x))"
   ]
  },
  {
   "cell_type": "code",
   "execution_count": 20,
   "metadata": {},
   "outputs": [
    {
     "data": {
      "text/plain": [
       "2     701299\n",
       "1     661908\n",
       "3     240656\n",
       "4      57379\n",
       "5      13851\n",
       "6       4080\n",
       "7       1555\n",
       "8        838\n",
       "9        485\n",
       "10       340\n",
       "11       236\n",
       "12       183\n",
       "13       122\n",
       "14       103\n",
       "15        68\n",
       "16        54\n",
       "17        48\n",
       "18        39\n",
       "19        32\n",
       "20        25\n",
       "22        17\n",
       "21        13\n",
       "25        11\n",
       "23        10\n",
       "24         9\n",
       "26         6\n",
       "27         6\n",
       "29         6\n",
       "31         3\n",
       "28         3\n",
       "32         3\n",
       "30         2\n",
       "33         2\n",
       "34         2\n",
       "41         2\n",
       "40         1\n",
       "44         1\n",
       "54         1\n",
       "36         1\n",
       "35         1\n",
       "68         1\n",
       "Name: np, dtype: int64"
      ]
     },
     "execution_count": 20,
     "metadata": {},
     "output_type": "execute_result"
    }
   ],
   "source": [
    "lens.value_counts()"
   ]
  },
  {
   "cell_type": "code",
   "execution_count": 21,
   "metadata": {},
   "outputs": [
    {
     "data": {
      "text/html": [
       "<div>\n",
       "<style scoped>\n",
       "    .dataframe tbody tr th:only-of-type {\n",
       "        vertical-align: middle;\n",
       "    }\n",
       "\n",
       "    .dataframe tbody tr th {\n",
       "        vertical-align: top;\n",
       "    }\n",
       "\n",
       "    .dataframe thead th {\n",
       "        text-align: right;\n",
       "    }\n",
       "</style>\n",
       "<table border=\"1\" class=\"dataframe\">\n",
       "  <thead>\n",
       "    <tr style=\"text-align: right;\">\n",
       "      <th></th>\n",
       "      <th>np_count.table</th>\n",
       "      <th>np_count.and_ig_ig</th>\n",
       "      <th>np_count.andnot_and_ig</th>\n",
       "      <th>np_count.andnot_andnot_and</th>\n",
       "    </tr>\n",
       "  </thead>\n",
       "  <tbody>\n",
       "    <tr>\n",
       "      <th>np_count.table</th>\n",
       "      <td>1.000000</td>\n",
       "      <td>0.064921</td>\n",
       "      <td>0.088260</td>\n",
       "      <td>0.111242</td>\n",
       "    </tr>\n",
       "    <tr>\n",
       "      <th>np_count.and_ig_ig</th>\n",
       "      <td>0.064921</td>\n",
       "      <td>1.000000</td>\n",
       "      <td>0.230097</td>\n",
       "      <td>0.291361</td>\n",
       "    </tr>\n",
       "    <tr>\n",
       "      <th>np_count.andnot_and_ig</th>\n",
       "      <td>0.088260</td>\n",
       "      <td>0.230097</td>\n",
       "      <td>1.000000</td>\n",
       "      <td>0.388359</td>\n",
       "    </tr>\n",
       "    <tr>\n",
       "      <th>np_count.andnot_andnot_and</th>\n",
       "      <td>0.111242</td>\n",
       "      <td>0.291361</td>\n",
       "      <td>0.388359</td>\n",
       "      <td>1.000000</td>\n",
       "    </tr>\n",
       "  </tbody>\n",
       "</table>\n",
       "</div>"
      ],
      "text/plain": [
       "                            np_count.table  np_count.and_ig_ig  \\\n",
       "np_count.table                    1.000000            0.064921   \n",
       "np_count.and_ig_ig                0.064921            1.000000   \n",
       "np_count.andnot_and_ig            0.088260            0.230097   \n",
       "np_count.andnot_andnot_and        0.111242            0.291361   \n",
       "\n",
       "                            np_count.andnot_and_ig  np_count.andnot_andnot_and  \n",
       "np_count.table                            0.088260                    0.111242  \n",
       "np_count.and_ig_ig                        0.230097                    0.291361  \n",
       "np_count.andnot_and_ig                    1.000000                    0.388359  \n",
       "np_count.andnot_andnot_and                0.388359                    1.000000  "
      ]
     },
     "execution_count": 21,
     "metadata": {},
     "output_type": "execute_result"
    }
   ],
   "source": [
    "df2[['np_count.table', 'np_count.and_ig_ig', 'np_count.andnot_and_ig', 'np_count.andnot_andnot_and']].corr()"
   ]
  },
  {
   "cell_type": "code",
   "execution_count": 23,
   "metadata": {},
   "outputs": [
    {
     "data": {
      "text/plain": [
       "(table,)           3520\n",
       "(study,)           3332\n",
       "(result,)          3166\n",
       "(research,)        2916\n",
       "(hypothesis,)      2839\n",
       "(organization,)    2838\n",
       "(time,)            2749\n",
       "(analysis,)        2748\n",
       "(number,)          2712\n",
       "(datum,)           2712\n",
       "(example,)         2699\n",
       "(relationship,)    2678\n",
       "(effect,)          2629\n",
       "(level,)           2453\n",
       "(finding,)         2420\n",
       "(difference,)      2370\n",
       "(case,)            2344\n",
       "(variable,)        2334\n",
       "(type,)            2296\n",
       "(way,)             2213\n",
       "(addition,)        2173\n",
       "(measure,)         2167\n",
       "(term,)            2128\n",
       "(work,)            2104\n",
       "(group,)           2096\n",
       "(model,)           2086\n",
       "(individual,)      2077\n",
       "(information,)     2035\n",
       "(extent,)          2026\n",
       "(question,)        1979\n",
       "(factor,)          1944\n",
       "(manager,)         1944\n",
       "(year,)            1914\n",
       "(percent,)         1910\n",
       "(fact,)            1890\n",
       "(theory,)          1886\n",
       "(value,)           1884\n",
       "(change,)          1882\n",
       "(order,)           1881\n",
       "(process,)         1862\n",
       "(degree,)          1842\n",
       "(use,)             1813\n",
       "(performance,)     1797\n",
       "(role,)            1783\n",
       "(sample,)          1776\n",
       "(evidence,)        1774\n",
       "(researcher,)      1764\n",
       "(support,)         1736\n",
       "(discussion,)      1716\n",
       "(problem,)         1708\n",
       "Name: np, dtype: int64"
      ]
     },
     "execution_count": 23,
     "metadata": {},
     "output_type": "execute_result"
    }
   ],
   "source": [
    "df2['np'].value_counts().head(50)"
   ]
  },
  {
   "cell_type": "code",
   "execution_count": 24,
   "metadata": {},
   "outputs": [
    {
     "data": {
      "text/plain": [
       "effect            18710\n",
       "variable          16961\n",
       "level             15121\n",
       "relationship      13057\n",
       "model             12285\n",
       "study             12129\n",
       "research          11464\n",
       "analysis          10873\n",
       "measure           10550\n",
       "performance       10287\n",
       "process            9857\n",
       "firm               9617\n",
       "organization       9600\n",
       "group              9184\n",
       "result             8480\n",
       "theory             8242\n",
       "behavior           8162\n",
       "difference         8159\n",
       "datum              8072\n",
       "change             7903\n",
       "hypothesis         7883\n",
       "number             7848\n",
       "value              7696\n",
       "factor             7012\n",
       "structure          6985\n",
       "e                  6769\n",
       "strategy           6119\n",
       "characteristic     6038\n",
       "work               5875\n",
       "information        5754\n",
       "member             5727\n",
       "role               5693\n",
       "decision           5633\n",
       "manager            5571\n",
       "support            5499\n",
       "type               5470\n",
       "system             5431\n",
       "condition          5317\n",
       "position           5218\n",
       "finding            5160\n",
       "size               5110\n",
       "time               5003\n",
       "rate               4991\n",
       "activity           4978\n",
       "experience         4906\n",
       "problem            4887\n",
       "outcome            4864\n",
       "test               4838\n",
       "sample             4824\n",
       "environment        4823\n",
       "Name: root, dtype: int64"
      ]
     },
     "execution_count": 24,
     "metadata": {},
     "output_type": "execute_result"
    }
   ],
   "source": [
    "df2['root'].value_counts().head(50)"
   ]
  },
  {
   "cell_type": "code",
   "execution_count": 27,
   "metadata": {},
   "outputs": [
    {
     "data": {
      "text/plain": [
       "(high, level)                    1354\n",
       "(dependent, variable)            1228\n",
       "(future, research)               1102\n",
       "(independent, variable)          1025\n",
       "(standard, deviation)             863\n",
       "(control, variable)               805\n",
       "(present, study)                  773\n",
       "(previous, research)              760\n",
       "(significant, difference)         753\n",
       "(low, level)                      744\n",
       "(large, number)                   630\n",
       "(different, type)                 586\n",
       "(positive, relationship)          575\n",
       "(total, number)                   564\n",
       "(significant, effect)             550\n",
       "(main, effect)                    538\n",
       "(positive, effect)                526\n",
       "(dummy, variable)                 518\n",
       "(job, satisfaction)               517\n",
       "(p, p)                            475\n",
       "(negative, effect)                468\n",
       "(decision, making)                455\n",
       "(previous, study)                 454\n",
       "(interaction, term)               438\n",
       "(standard, error)                 431\n",
       "(high, degree)                    423\n",
       "(prior, research)                 421\n",
       "(organizational, structure)       410\n",
       "(organizational, behavior)        407\n",
       "(empirical, study)                396\n",
       "(regression, analysis)            390\n",
       "(wide, range)                     386\n",
       "(strong, support)                 377\n",
       "(descriptive, statistic)          377\n",
       "(firm, performance)               375\n",
       "(time, period)                    375\n",
       "(different, level)                372\n",
       "(negative, relationship)          370\n",
       "(empirical, evidence)             352\n",
       "(direct, effect)                  351\n",
       "(interaction, effect)             337\n",
       "(firm, size)                      335\n",
       "(empirical, research)             334\n",
       "(significant, relationship)       332\n",
       "(great, deal)                     329\n",
       "(small, number)                   326\n",
       "(large, firm)                     319\n",
       "(organizational, performance)     311\n",
       "(regression, equation)            308\n",
       "(past, research)                  308\n",
       "Name: np, dtype: int64"
      ]
     },
     "execution_count": 27,
     "metadata": {},
     "output_type": "execute_result"
    }
   ],
   "source": [
    "df3['np'].value_counts().head(50)"
   ]
  },
  {
   "cell_type": "code",
   "execution_count": 29,
   "metadata": {},
   "outputs": [
    {
     "data": {
      "text/plain": [
       "(social, structure)                211\n",
       "(high, performance)                211\n",
       "(adjusted, r2)                     211\n",
       "(research, note)                   209\n",
       "(high, value)                      206\n",
       "(small, firm)                      206\n",
       "(organizational, size)             206\n",
       "(organizational, commitment)       206\n",
       "(broad, range)                     205\n",
       "(work, environment)                205\n",
       "(performance, measure)             205\n",
       "(future, study)                    205\n",
       "(organizational, member)           204\n",
       "(partial, support)                 202\n",
       "(social, network)                  201\n",
       "(response, rate)                   200\n",
       "(helpful, comment)                 200\n",
       "(significant, interaction)         197\n",
       "(positive, association)            195\n",
       "(similar, result)                  194\n",
       "(organizational, theory)           193\n",
       "(hypothesize, relationship)        193\n",
       "(organizational, research)         192\n",
       "(high, correlation)                191\n",
       "(organizational, effectiveness)    189\n",
       "(high, score)                      188\n",
       "(research, design)                 188\n",
       "(market, share)                    188\n",
       "(empirical, test)                  187\n",
       "(high, rate)                       187\n",
       "(specific, hypothesis)             185\n",
       "(previous, work)                   185\n",
       "(important, determinant)           185\n",
       "(likert, scale)                    183\n",
       "(second, hypothesis)               183\n",
       "(average, number)                  182\n",
       "(significant, result)              181\n",
       "(large, sample)                    181\n",
       "(predict, direction)               180\n",
       "(poor, performance)                179\n",
       "(external, environment)            178\n",
       "(approximately, percent)           178\n",
       "(team, member)                     177\n",
       "(r, d)                             177\n",
       "(important, factor)                177\n",
       "(final, sample)                    176\n",
       "(theoretical, model)               175\n",
       "(strategic, choice)                175\n",
       "(predictor, variable)              173\n",
       "(multivariate, analysis)           173\n",
       "Name: np, dtype: int64"
      ]
     },
     "execution_count": 29,
     "metadata": {},
     "output_type": "execute_result"
    }
   ],
   "source": [
    "df3['np'].value_counts().head(150).tail(50)"
   ]
  },
  {
   "cell_type": "code",
   "execution_count": null,
   "metadata": {
    "collapsed": true
   },
   "outputs": [],
   "source": []
  }
 ],
 "metadata": {
  "kernelspec": {
   "display_name": "Python 3",
   "language": "python",
   "name": "python3"
  },
  "language_info": {
   "codemirror_mode": {
    "name": "ipython",
    "version": 3
   },
   "file_extension": ".py",
   "mimetype": "text/x-python",
   "name": "python",
   "nbconvert_exporter": "python",
   "pygments_lexer": "ipython3",
   "version": "3.6.7"
  }
 },
 "nbformat": 4,
 "nbformat_minor": 2
}
