{
 "cells": [
  {
   "cell_type": "code",
   "execution_count": 1,
   "metadata": {},
   "outputs": [],
   "source": [
    "import matplotlib.pyplot as plt\n",
    "from os.path import expanduser, join, isfile\n",
    "import gzip\n",
    "import pickle\n",
    "import article_analysis.parse as aap\n",
    "import article_analysis.ngram_tools as aan\n",
    "import numpy as np\n",
    "\n",
    "%load_ext autoreload\n",
    "%autoreload 1\n",
    "%aimport article_analysis.parse\n",
    "%aimport article_analysis.ngram_tools\n",
    "%matplotlib inline"
   ]
  },
  {
   "cell_type": "code",
   "execution_count": 2,
   "metadata": {},
   "outputs": [],
   "source": [
    "fpath = expanduser('~/data/jstor/latest/')\n",
    "ii = 0\n",
    "chunk = aap.get_chunk(fpath, 'ngrams_dict', ii)"
   ]
  },
  {
   "cell_type": "code",
   "execution_count": 3,
   "metadata": {},
   "outputs": [
    {
     "data": {
      "text/plain": [
       "['10.2307/27749304',\n",
       " '10.2307/255571',\n",
       " '10.2307/256106',\n",
       " '10.2307/258802',\n",
       " '10.2307/20159359']"
      ]
     },
     "execution_count": 3,
     "metadata": {},
     "output_type": "execute_result"
    }
   ],
   "source": [
    "kk = list(chunk.keys())\n",
    "kk[:5]"
   ]
  },
  {
   "cell_type": "code",
   "execution_count": 4,
   "metadata": {},
   "outputs": [],
   "source": [
    "ex1 = chunk[kk[0]]"
   ]
  },
  {
   "cell_type": "code",
   "execution_count": 5,
   "metadata": {},
   "outputs": [],
   "source": [
    "# list(ex1.items())[:5]"
   ]
  },
  {
   "cell_type": "code",
   "execution_count": 6,
   "metadata": {},
   "outputs": [],
   "source": [
    "def positions2counts(article):\n",
    "    ngrams_dict = {}\n",
    "    for k, item in article.items():\n",
    "        ngrams_dict[k] = {kk: len(v) for kk, v in item.items()}\n",
    "    return ngrams_dict\n",
    "\n",
    "def chunk_positions2counts(chunk):\n",
    "    chunk_new = {k: positions2counts(v) for k, v in chunk.items()}\n",
    "    return chunk_new"
   ]
  },
  {
   "cell_type": "code",
   "execution_count": 7,
   "metadata": {},
   "outputs": [],
   "source": [
    "ex1_tr = positions2counts(ex1)"
   ]
  },
  {
   "cell_type": "code",
   "execution_count": 8,
   "metadata": {},
   "outputs": [],
   "source": [
    "chunk_tr = chunk_positions2counts(chunk)"
   ]
  },
  {
   "cell_type": "code",
   "execution_count": 9,
   "metadata": {},
   "outputs": [
    {
     "data": {
      "text/plain": [
       "[('vol', 3),\n",
       " ('community', 20),\n",
       " ('size', 18),\n",
       " ('socialization', 27),\n",
       " ('work', 35)]"
      ]
     },
     "execution_count": 9,
     "metadata": {},
     "output_type": "execute_result"
    }
   ],
   "source": [
    "list(chunk_tr['10.2307/255571'][1].items())[:5]"
   ]
  },
  {
   "cell_type": "code",
   "execution_count": 10,
   "metadata": {},
   "outputs": [],
   "source": [
    "ex_article = chunk_tr['10.2307/255571']"
   ]
  },
  {
   "cell_type": "code",
   "execution_count": 11,
   "metadata": {},
   "outputs": [],
   "source": [
    "sample_counts = [chunk[k][1] for k in kk[:5]]\n",
    "sample_ngdicts = [chunk[k] for k in kk[:5]]"
   ]
  },
  {
   "cell_type": "code",
   "execution_count": 12,
   "metadata": {},
   "outputs": [
    {
     "data": {
      "text/plain": [
       "5"
      ]
     },
     "execution_count": 12,
     "metadata": {},
     "output_type": "execute_result"
    }
   ],
   "source": [
    "len(sample_ngdicts[0])"
   ]
  },
  {
   "cell_type": "code",
   "execution_count": 13,
   "metadata": {},
   "outputs": [
    {
     "data": {
      "text/plain": [
       "(5135, [2139, 688, 525, 827, 3183], 5135)"
      ]
     },
     "execution_count": 13,
     "metadata": {},
     "output_type": "execute_result"
    }
   ],
   "source": [
    "aac = aan.AlphabetAccumulator()\n",
    "for c in sample_counts:\n",
    "    aac.update_with_counts(c)\n",
    "ngram_dist = aac.yield_distribution()\n",
    "len(ngram_dist), [len(x) for x in sample_counts], len(set([x for sublist in sample_counts for x in sublist.keys()]))"
   ]
  },
  {
   "cell_type": "code",
   "execution_count": 14,
   "metadata": {},
   "outputs": [
    {
     "data": {
      "text/plain": [
       "(23543.0, 0.0)"
      ]
     },
     "execution_count": 14,
     "metadata": {},
     "output_type": "execute_result"
    }
   ],
   "source": [
    "ns = [v[-1] + v[-2] for k, v in ngram_dist.items()]\n",
    "np.mean(ns), np.std(ns)"
   ]
  },
  {
   "cell_type": "code",
   "execution_count": 15,
   "metadata": {},
   "outputs": [
    {
     "data": {
      "text/plain": [
       "(5135, [2139, 688, 525, 827, 3183], 5135)"
      ]
     },
     "execution_count": 15,
     "metadata": {},
     "output_type": "execute_result"
    }
   ],
   "source": [
    "aanag = aan.NgramAggregator(list(range(1,6)))\n",
    "aanag.update_with_ngram_dicts(sample_ngdicts)\n",
    "ngram_dist = aanag.yield_distribution()\n",
    "len(ngram_dist[1]), [len(x) for x in sample_counts], len(set([x for sublist in sample_counts for x in sublist.keys()]))"
   ]
  },
  {
   "cell_type": "code",
   "execution_count": 16,
   "metadata": {},
   "outputs": [
    {
     "data": {
      "text/plain": [
       "{'origin': (0.000445992439366266,\n",
       "  0.00024620289938261715,\n",
       "  0.0006937777272525425,\n",
       "  10.5,\n",
       "  23532.5),\n",
       " 'structural': (0.008134052584632375,\n",
       "  0.00719551483342458,\n",
       "  0.009120088466739396,\n",
       "  191.5,\n",
       "  23351.5),\n",
       " 'hole': (0.00660493564966232,\n",
       "  0.005761081684818596,\n",
       "  0.007496432277803833,\n",
       "  155.5,\n",
       "  23387.5),\n",
       " 'akbar': (6.371320562375228e-05,\n",
       "  7.472787773465771e-06,\n",
       "  0.00016596216111286477,\n",
       "  1.5,\n",
       "  23541.5),\n",
       " 'zaheer': (0.0004884679097821008,\n",
       "  0.00027804803986818236,\n",
       "  0.0007469027291975294,\n",
       "  11.5,\n",
       "  23531.5),\n",
       " 'university': (0.006010279063840632,\n",
       "  0.005206248554706234,\n",
       "  0.0068620080061475575,\n",
       "  141.5,\n",
       "  23401.5),\n",
       " 'minnesota': (0.0002336150872870917,\n",
       "  9.716736218600338e-05,\n",
       "  0.0004178257416865838,\n",
       "  5.5,\n",
       "  23537.5),\n",
       " 'giuseppe': (6.371320562375228e-05,\n",
       "  7.472787773465771e-06,\n",
       "  0.00016596216111286477,\n",
       "  1.5,\n",
       "  23541.5),\n",
       " 'soda': (0.0002760905577029266,\n",
       "  0.0001251419585534943,\n",
       "  0.00047488179500465577,\n",
       "  6.5,\n",
       "  23536.5),\n",
       " 'bocconi': (0.000148664146455422,\n",
       "  4.6032943437098825e-05,\n",
       "  0.000298738128131415,\n",
       "  3.5,\n",
       "  23539.5)}"
      ]
     },
     "execution_count": 16,
     "metadata": {},
     "output_type": "execute_result"
    }
   ],
   "source": [
    "ng_tmp = ngram_dist[1]\n",
    "kk2 = list(ng_tmp.keys())\n",
    "{k: ng_tmp[k] for k in kk2[:10]}"
   ]
  },
  {
   "cell_type": "code",
   "execution_count": null,
   "metadata": {},
   "outputs": [],
   "source": []
  }
 ],
 "metadata": {
  "kernelspec": {
   "display_name": "Python 3",
   "language": "python",
   "name": "python3"
  },
  "language_info": {
   "codemirror_mode": {
    "name": "ipython",
    "version": 3
   },
   "file_extension": ".py",
   "mimetype": "text/x-python",
   "name": "python",
   "nbconvert_exporter": "python",
   "pygments_lexer": "ipython3",
   "version": "3.6.6"
  }
 },
 "nbformat": 4,
 "nbformat_minor": 2
}
