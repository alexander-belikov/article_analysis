{
 "cells": [
  {
   "cell_type": "code",
   "execution_count": 1,
   "metadata": {},
   "outputs": [],
   "source": [
    "import matplotlib.pyplot as plt\n",
    "from os.path import expanduser, join, isfile\n",
    "import warnings\n",
    "warnings.filterwarnings(\"ignore\", category=DeprecationWarning) \n",
    "import article_analysis.parse as aap\n",
    "\n",
    "%load_ext autoreload\n",
    "%autoreload 1\n",
    "%aimport article_analysis.parse\n",
    "%matplotlib inline"
   ]
  },
  {
   "cell_type": "code",
   "execution_count": 19,
   "metadata": {},
   "outputs": [],
   "source": [
    "fpath = expanduser('~/data/jstor/ngrams_new')\n",
    "destpath = fpath\n",
    "suffix = 'pgz'\n",
    "prefix = 'ngrams_corpus'\n",
    "aap.get_indices(fpath, prefix, suffix)\n",
    "chunk = aap.get_chunk(fpath, 'ngrams_corpus', 8)\n",
    "nchunk = aap.get_chunk(fpath, 'lemma_ngrams_corpus', 8)"
   ]
  },
  {
   "cell_type": "code",
   "execution_count": 6,
   "metadata": {},
   "outputs": [],
   "source": [
    "ckeys = sorted(chunk.keys())\n",
    "ncckeys = sorted(nchunk.keys())"
   ]
  },
  {
   "cell_type": "code",
   "execution_count": 9,
   "metadata": {},
   "outputs": [
    {
     "data": {
      "text/plain": [
       "True"
      ]
     },
     "execution_count": 9,
     "metadata": {},
     "output_type": "execute_result"
    }
   ],
   "source": [
    "all([x == y for x, y in zip(ckeys, ncckeys)])"
   ]
  },
  {
   "cell_type": "code",
   "execution_count": 16,
   "metadata": {},
   "outputs": [],
   "source": [
    "for k in ckeys[:]:\n",
    "    art = chunk[k]\n",
    "    nart = nchunk[k]\n",
    "    orders = sorted(art.keys())\n",
    "    for o in orders:\n",
    "        aa = art[o]\n",
    "        naa = nart[o]\n",
    "        saa = sum([x for x in aa.values()])\n",
    "        snaa = sum([x for x in naa.values()])\n",
    "#         print(len(art[o]), len(nart[o]), saa, snaa)\n",
    "        if saa != snaa:\n",
    "            print('***', k, o)"
   ]
  }
 ],
 "metadata": {
  "kernelspec": {
   "display_name": "Python 3",
   "language": "python",
   "name": "python3"
  },
  "language_info": {
   "codemirror_mode": {
    "name": "ipython",
    "version": 3
   },
   "file_extension": ".py",
   "mimetype": "text/x-python",
   "name": "python",
   "nbconvert_exporter": "python",
   "pygments_lexer": "ipython3",
   "version": "3.6.6"
  }
 },
 "nbformat": 4,
 "nbformat_minor": 2
}
