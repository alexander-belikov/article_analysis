{
 "cells": [
  {
   "cell_type": "code",
   "execution_count": null,
   "metadata": {},
   "outputs": [],
   "source": [
    "from nltk.stem.wordnet import WordNetLemmatizer\n",
    "import pandas as pd\n",
    "import matplotlib.pyplot as plt\n",
    "from os.path import expanduser, join, isfile\n",
    "\n",
    "import warnings\n",
    "warnings.filterwarnings(\"ignore\", category=DeprecationWarning) \n",
    "\n",
    "import article_analysis.parse as aap\n",
    "\n",
    "%load_ext autoreload\n",
    "%autoreload 1\n",
    "%aimport article_analysis.parse\n",
    "%matplotlib inline"
   ]
  },
  {
   "cell_type": "code",
   "execution_count": 2,
   "metadata": {},
   "outputs": [
    {
     "data": {
      "text/plain": [
       "(5694, 13)"
      ]
     },
     "execution_count": 2,
     "metadata": {},
     "output_type": "execute_result"
    }
   ],
   "source": [
    "df = pd.read_json(expanduser('~/data/jstor/amj_raw/json_amj.txt'), lines=True)\n",
    "df.shape"
   ]
  },
  {
   "cell_type": "code",
   "execution_count": 3,
   "metadata": {},
   "outputs": [
    {
     "data": {
      "text/html": [
       "<div>\n",
       "<style scoped>\n",
       "    .dataframe tbody tr th:only-of-type {\n",
       "        vertical-align: middle;\n",
       "    }\n",
       "\n",
       "    .dataframe tbody tr th {\n",
       "        vertical-align: top;\n",
       "    }\n",
       "\n",
       "    .dataframe thead th {\n",
       "        text-align: right;\n",
       "    }\n",
       "</style>\n",
       "<table border=\"1\" class=\"dataframe\">\n",
       "  <thead>\n",
       "    <tr style=\"text-align: right;\">\n",
       "      <th></th>\n",
       "      <th>authors</th>\n",
       "      <th>data</th>\n",
       "      <th>discipline</th>\n",
       "      <th>doi</th>\n",
       "      <th>journaltitle</th>\n",
       "      <th>number</th>\n",
       "      <th>pagecount</th>\n",
       "      <th>pagerange</th>\n",
       "      <th>publication-date</th>\n",
       "      <th>reviewed-work</th>\n",
       "      <th>title</th>\n",
       "      <th>type</th>\n",
       "      <th>volume</th>\n",
       "    </tr>\n",
       "  </thead>\n",
       "  <tbody>\n",
       "    <tr>\n",
       "      <th>0</th>\n",
       "      <td>John B. Miner</td>\n",
       "      <td>{'ocr': ['Communications Exodus-The study also...</td>\n",
       "      <td>[Business &amp; Economics Collection, Management &amp;...</td>\n",
       "      <td>10.2307/254807</td>\n",
       "      <td>The Academy of Management Journal</td>\n",
       "      <td>1</td>\n",
       "      <td>2</td>\n",
       "      <td>127-128</td>\n",
       "      <td>1972-03-01T00:00:00Z</td>\n",
       "      <td>NaN</td>\n",
       "      <td>Success in Management Consulting and the Conce...</td>\n",
       "      <td>research-article</td>\n",
       "      <td>15</td>\n",
       "    </tr>\n",
       "    <tr>\n",
       "      <th>1</th>\n",
       "      <td>Charles R. McClure</td>\n",
       "      <td>{'ocr': ['The author's own recommendations are...</td>\n",
       "      <td>[Business &amp; Economics Collection, Management &amp;...</td>\n",
       "      <td>10.2307/257446</td>\n",
       "      <td>The Academy of Management Review</td>\n",
       "      <td>2</td>\n",
       "      <td>3</td>\n",
       "      <td>312-314</td>\n",
       "      <td>1980-04-01T00:00:00Z</td>\n",
       "      <td>&lt;product&gt;&lt;source&gt;\\n &lt;source&gt;Information Strate...</td>\n",
       "      <td></td>\n",
       "      <td>book-review</td>\n",
       "      <td>5</td>\n",
       "    </tr>\n",
       "  </tbody>\n",
       "</table>\n",
       "</div>"
      ],
      "text/plain": [
       "              authors                                               data  \\\n",
       "0       John B. Miner  {'ocr': ['Communications Exodus-The study also...   \n",
       "1  Charles R. McClure  {'ocr': ['The author's own recommendations are...   \n",
       "\n",
       "                                          discipline             doi  \\\n",
       "0  [Business & Economics Collection, Management &...  10.2307/254807   \n",
       "1  [Business & Economics Collection, Management &...  10.2307/257446   \n",
       "\n",
       "                        journaltitle number  pagecount pagerange  \\\n",
       "0  The Academy of Management Journal      1          2   127-128   \n",
       "1   The Academy of Management Review      2          3   312-314   \n",
       "\n",
       "       publication-date                                      reviewed-work  \\\n",
       "0  1972-03-01T00:00:00Z                                                NaN   \n",
       "1  1980-04-01T00:00:00Z  <product><source>\\n <source>Information Strate...   \n",
       "\n",
       "                                               title              type volume  \n",
       "0  Success in Management Consulting and the Conce...  research-article     15  \n",
       "1                                                          book-review      5  "
      ]
     },
     "execution_count": 3,
     "metadata": {},
     "output_type": "execute_result"
    }
   ],
   "source": [
    "df.head(2)"
   ]
  },
  {
   "cell_type": "code",
   "execution_count": 4,
   "metadata": {},
   "outputs": [],
   "source": [
    "# df['doi'].to_csv('/Users/belikov/data/jstor/doi.csv.gz', compression='gzip')"
   ]
  },
  {
   "cell_type": "code",
   "execution_count": 5,
   "metadata": {},
   "outputs": [],
   "source": [
    "corpus = dict(zip(df['doi'], [x['ocr'] for x in df['data']]))"
   ]
  },
  {
   "cell_type": "code",
   "execution_count": 6,
   "metadata": {},
   "outputs": [
    {
     "data": {
      "text/plain": [
       "5694"
      ]
     },
     "execution_count": 6,
     "metadata": {},
     "output_type": "execute_result"
    }
   ],
   "source": [
    "len(corpus)"
   ]
  },
  {
   "cell_type": "code",
   "execution_count": 7,
   "metadata": {},
   "outputs": [],
   "source": [
    "fpath = expanduser('~/data/jstor/ngrams_new2')\n",
    "destpath = fpath\n",
    "suffix = 'pgz'\n",
    "prefix = 'ngrams_corpus'"
   ]
  },
  {
   "cell_type": "code",
   "execution_count": 8,
   "metadata": {},
   "outputs": [
    {
     "name": "stdout",
     "output_type": "stream",
     "text": [
      "len corpus 5694\n",
      "keys to process len 5694\n",
      "remaning corpus len 5694\n"
     ]
    }
   ],
   "source": [
    "print('len corpus', len(corpus))\n",
    "ss, max_index = aap.get_present_keys(fpath, prefix, suffix)\n",
    "keys_to_process = set(corpus.keys()) - ss\n",
    "print('keys to process len', len(keys_to_process))\n",
    "remaining_corpus = {k: corpus[k] for k in keys_to_process}\n",
    "print('remaning corpus len', len(remaining_corpus))\n",
    "corpus_split = aap.split_corpus(remaining_corpus, 200)"
   ]
  },
  {
   "cell_type": "code",
   "execution_count": 9,
   "metadata": {},
   "outputs": [],
   "source": [
    "lmtzr = WordNetLemmatizer()"
   ]
  },
  {
   "cell_type": "code",
   "execution_count": null,
   "metadata": {},
   "outputs": [],
   "source": [
    "for j, chunk in zip(range(len(corpus_split)), corpus_split):\n",
    "    corpus_ngrams = {}\n",
    "    for doi, article in chunk.items():\n",
    "        print('{0} '.format(doi), end='')\n",
    "        article_phrases = aap.transform_article(article)\n",
    "        print('{1} '.format(doi, len(article_phrases)), end='')\n",
    "        ngram_dict = aap.compute_ngrams(article_phrases)\n",
    "        orders = sorted(ngram_dict.keys())\n",
    "        for o in orders:\n",
    "            ngram_dict[o] = aap.transform_counter(ngram_dict[o], 'lemma', lmtzr)\n",
    "        corpus_ngrams[doi] = ngram_dict\n",
    "    with gzip.open(join(destpath, 'ngrams_corpus_{0}.pgz'.format(j + 1 + max_index )), 'wb') as fp:\n",
    "        pickle.dump(corpus_ngrams, fp)\n",
    "    print('\\n{0} chunks, {1:.2f} % complete'.format(j, 100*(j)/len(corpus_split)))"
   ]
  },
  {
   "cell_type": "code",
   "execution_count": 11,
   "metadata": {},
   "outputs": [],
   "source": [
    "# doi_ = '10.2307/3069361'\n",
    "# doi_ = '10.2307/254807'\n",
    "# doi_ = '10.2307/2667048'\n",
    "# doi_ = '10.2307/254961'\n",
    "# doi_ = '10.1525/sop.2008.51.1.163'\n",
    "# mask = (df['doi'] == doi_)\n",
    "# article = df.loc[mask, 'data'].values[0]['ocr']\n",
    "# # ar_phrases = aap.transform_article(article, verbose=True)\n",
    "# ar_phrases = aap.transform_article(article)\n",
    "# ng_dict = aap.compute_ngrams(ar_phrases)\n",
    "# ng_dict[2]"
   ]
  }
 ],
 "metadata": {
  "kernelspec": {
   "display_name": "Python 3",
   "language": "python",
   "name": "python3"
  },
  "language_info": {
   "codemirror_mode": {
    "name": "ipython",
    "version": 3
   },
   "file_extension": ".py",
   "mimetype": "text/x-python",
   "name": "python",
   "nbconvert_exporter": "python",
   "pygments_lexer": "ipython3",
   "version": "3.6.6"
  }
 },
 "nbformat": 4,
 "nbformat_minor": 2
}
