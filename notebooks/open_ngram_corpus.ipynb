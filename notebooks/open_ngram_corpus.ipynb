{
 "cells": [
  {
   "cell_type": "code",
   "execution_count": 1,
   "metadata": {},
   "outputs": [],
   "source": [
    "import gzip\n",
    "import pickle\n",
    "from os.path import join, expanduser\n",
    "from scipy.stats import beta"
   ]
  },
  {
   "cell_type": "code",
   "execution_count": 2,
   "metadata": {},
   "outputs": [],
   "source": [
    "input_path = expanduser('~/data/jstor/latest/')\n",
    "output_path = expanduser('~/data/jstor/latest/')"
   ]
  },
  {
   "cell_type": "code",
   "execution_count": 3,
   "metadata": {},
   "outputs": [],
   "source": [
    "fname = join(input_path, 'lemma_ngrams_corpus_total.pgz')\n",
    "with gzip.open(fname) as fp:\n",
    "    ngram_dict = pickle.load(fp)"
   ]
  },
  {
   "cell_type": "code",
   "execution_count": 4,
   "metadata": {},
   "outputs": [],
   "source": [
    "alpha = 0.05\n",
    "thr = 2"
   ]
  },
  {
   "cell_type": "code",
   "execution_count": 5,
   "metadata": {},
   "outputs": [
    {
     "name": "stdout",
     "output_type": "stream",
     "text": [
      "1 271503 25492455\n",
      "96326\n",
      "2 6398379 22982492\n",
      "1285758\n",
      "3 15290166 20700956\n",
      "704202\n",
      "4 16330241 18692950\n",
      "305988\n",
      "5 15431272 16911003\n",
      "195937\n"
     ]
    }
   ],
   "source": [
    "for k, item in ngram_dict.items():\n",
    "    n_elems = sum(item.values())\n",
    "    print(k, len(item), n_elems)\n",
    "    new_item = {}\n",
    "    for key, a in item.items():\n",
    "        a = item[key]\n",
    "        b = n_elems - a\n",
    "        if a > thr:\n",
    "            new_item[key] = a/(a + b), beta.ppf(alpha, a, b), beta.ppf(1-alpha, a, b), a\n",
    "    print(len(new_item))\n",
    "    with gzip.open(join(output_path, 'corpus_ngram_dist_n_{0}_thr_{1}.pgz'.format(k, thr)), 'wb') as fp:\n",
    "        pickle.dump(new_item, fp)"
   ]
  }
 ],
 "metadata": {
  "kernelspec": {
   "display_name": "Python 3",
   "language": "python",
   "name": "python3"
  },
  "language_info": {
   "codemirror_mode": {
    "name": "ipython",
    "version": 3
   },
   "file_extension": ".py",
   "mimetype": "text/x-python",
   "name": "python",
   "nbconvert_exporter": "python",
   "pygments_lexer": "ipython3",
   "version": "3.6.6"
  }
 },
 "nbformat": 4,
 "nbformat_minor": 2
}
