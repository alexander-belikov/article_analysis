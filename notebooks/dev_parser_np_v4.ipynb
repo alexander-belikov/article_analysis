{
 "cells": [
  {
   "cell_type": "code",
   "execution_count": 7,
   "metadata": {},
   "outputs": [
    {
     "name": "stdout",
     "output_type": "stream",
     "text": [
      "The autoreload extension is already loaded. To reload it, use:\n",
      "  %reload_ext autoreload\n"
     ]
    }
   ],
   "source": [
    "import gzip\n",
    "import pickle\n",
    "from os.path import join, expanduser\n",
    "import pandas as pd\n",
    "import json\n",
    "import numpy as np\n",
    "from functools import reduce\n",
    "\n",
    "from article_analysis.parse import get_chunk, get_article_ngram_dict, find_doi_chunk_map, load_ngram_dist\n",
    "import article_analysis.parse_ent as aape\n",
    "%load_ext autoreload\n",
    "%autoreload 1\n",
    "%aimport article_analysis.parse_ent"
   ]
  },
  {
   "cell_type": "code",
   "execution_count": 385,
   "metadata": {},
   "outputs": [],
   "source": [
    "head = 50\n",
    "verbose = True\n",
    "\n",
    "nlp = aape.init_nlp()\n",
    "\n",
    "input_path = expanduser('~/data/jstor/latest/')\n",
    "output_path = expanduser('~/data/jstor/latest/')\n",
    "prefix = 'ngrams_dict'\n",
    "\n",
    "with open(join(output_path, 'registry_json.txt')) as file:\n",
    "    registry_dict = json.loads(file.read())\n",
    "\n",
    "\n",
    "fname = expanduser('~/data/jstor/latest/corpus_clean_dict.pgz')\n",
    "with gzip.open(fname) as fp:\n",
    "    articles_ds = pickle.load(fp)"
   ]
  },
  {
   "cell_type": "code",
   "execution_count": 3,
   "metadata": {},
   "outputs": [],
   "source": [
    "head = 2\n",
    "# keywords = ['hypothesis', 'hypotheses', 'table']\n",
    "# keywords = ['hypothesis', 'Hypothesis', 'hypotheses', 'Hypotheses', 'proposition']\n",
    "# keywords = ['table']\n",
    "keywords = ['proposition', 'hypothesis']"
   ]
  },
  {
   "cell_type": "code",
   "execution_count": 386,
   "metadata": {},
   "outputs": [
    {
     "data": {
      "text/plain": [
       "False"
      ]
     },
     "execution_count": 386,
     "metadata": {},
     "output_type": "execute_result"
    }
   ],
   "source": [
    "nlp.vocab['of'].is_stop"
   ]
  },
  {
   "cell_type": "code",
   "execution_count": 115,
   "metadata": {},
   "outputs": [
    {
     "name": "stdout",
     "output_type": "stream",
     "text": [
      "batch number 0\n"
     ]
    }
   ],
   "source": [
    "all_dois_flat = [v for sublist in registry_dict.values() for v in sublist]\n",
    "head = 10\n",
    "head = 2\n",
    "nst = []\n",
    "\n",
    "if head > 0:\n",
    "    all_dois_flat = all_dois_flat[:head]\n",
    "\n",
    "# check boundaries\n",
    "batch_size = 100\n",
    "batch_size = 10\n",
    "dois_batched = [all_dois_flat[i:i+batch_size] for i in range(0, len(all_dois_flat), batch_size)]\n",
    "\n",
    "df_agg = []\n",
    "flags = []\n",
    "for dois_batch, j in zip(dois_batched, range(len(dois_batched))):\n",
    "    if verbose:\n",
    "        print('batch number {0}'.format(j))\n",
    "    dch_dict = get_article_ngram_dict(dois_batch, registry_dict, input_path, prefix)\n",
    "    for doi in dois_batch:\n",
    "        ngram_order = 1\n",
    "        article_ngrams = dch_dict[doi]\n",
    "        ngram_positions_list = article_ngrams[ngram_order]\n",
    "        \n",
    "        ixs = []\n",
    "        for keyword in keywords:\n",
    "            if keyword in ngram_positions_list.keys():\n",
    "                ixs += ngram_positions_list[keyword]\n",
    "#         print('doi {0}, len ixs {1}'.format(doi, len(ixs)))\n",
    "        \n",
    "        carticle = articles_ds[doi]\n",
    "        phrases = [phrase for phrase in carticle if any([True for keyword in keywords if keyword in phrase])]\n",
    "#         print('doi {0}, len ixs {1}'.format(doi, len(phrases)))\n",
    "#         phrases_start = [phrase for phrase in carticle if any([True for keyword in keywords if keyword == phrase[0]])]\n",
    "        phrases_start = [phrase for phrase in carticle if any([True for keyword in keywords if keyword == phrase[0]])]\n",
    "\n",
    "#         print('doi {0}, len ixs {1}; starts {2}.'.format(doi, len(phrases), len(phrases_start)))\n",
    "        nst.append(len(phrases_start))\n",
    "        flags.append(len(phrases))\n",
    "#         for ii in ixs:\n",
    "#             print(carticle[ii])\n",
    "# #             print('***')\n",
    "#             print(carticle[ii+1])\n",
    "#             phrase = carticle[ii]\n",
    "#             x = sum([1 for x in phrase if x.isdigit()])\n",
    "#             phrase2 = carticle[ii+1]\n",
    "#             x2 = sum([1 for x in phrase2 if x.isdigit()])\n",
    "#             print(x, len(phrase), x2, len(phrase2))\n",
    "\n",
    "#         chunks = aape.get_np_candidates(ixs, carticle, nlp, 1)\n",
    "#         total_counts, total_counts_raw, table, tree_dict = aape.choose_popular_np_phrases(chunks)\n",
    "#         df = pd.DataFrame(table, columns=['root', 'np', 'count'])\n",
    "#         df['doi'] = doi\n",
    "#         df_agg.append(df)"
   ]
  },
  {
   "cell_type": "code",
   "execution_count": 563,
   "metadata": {},
   "outputs": [],
   "source": [
    "doi = '10.2307/20159684'\n",
    "carticle = articles_ds[doi]"
   ]
  },
  {
   "cell_type": "code",
   "execution_count": 571,
   "metadata": {},
   "outputs": [],
   "source": [
    "vc0_, foos = aape.get_high_level_stats(carticle, keywords, nlp)"
   ]
  },
  {
   "cell_type": "code",
   "execution_count": 565,
   "metadata": {},
   "outputs": [],
   "source": [
    "root2chunk, chunk2root, pos2chunk, chunk2pos, pos2root, root2pos = foos"
   ]
  },
  {
   "cell_type": "code",
   "execution_count": 566,
   "metadata": {},
   "outputs": [
    {
     "data": {
      "text/plain": [
       "{'consequence', 'mistreatment'}"
      ]
     },
     "execution_count": 566,
     "metadata": {},
     "output_type": "execute_result"
    }
   ],
   "source": [
    "pos2root[326]"
   ]
  },
  {
   "cell_type": "code",
   "execution_count": 567,
   "metadata": {},
   "outputs": [
    {
     "data": {
      "text/plain": [
       "{('mistreatment',), ('potential', 'consequence')}"
      ]
     },
     "execution_count": 567,
     "metadata": {},
     "output_type": "execute_result"
    }
   ],
   "source": [
    "pos2chunk[326]"
   ]
  },
  {
   "cell_type": "code",
   "execution_count": 562,
   "metadata": {},
   "outputs": [
    {
     "data": {
      "text/html": [
       "<div>\n",
       "<style scoped>\n",
       "    .dataframe tbody tr th:only-of-type {\n",
       "        vertical-align: middle;\n",
       "    }\n",
       "\n",
       "    .dataframe tbody tr th {\n",
       "        vertical-align: top;\n",
       "    }\n",
       "\n",
       "    .dataframe thead th {\n",
       "        text-align: right;\n",
       "    }\n",
       "</style>\n",
       "<table border=\"1\" class=\"dataframe\">\n",
       "  <thead>\n",
       "    <tr style=\"text-align: right;\">\n",
       "      <th></th>\n",
       "      <th>np</th>\n",
       "      <th>np_count.and_ig_ig</th>\n",
       "      <th>root</th>\n",
       "      <th>np_count.andnot_and_ig</th>\n",
       "      <th>np_count.andnot_andnot_and</th>\n",
       "      <th>np_first_occ</th>\n",
       "      <th>root_first_occ</th>\n",
       "    </tr>\n",
       "  </thead>\n",
       "  <tbody>\n",
       "    <tr>\n",
       "      <th>0</th>\n",
       "      <td>(organizational, policy, grievance)</td>\n",
       "      <td>1.0</td>\n",
       "      <td>grievance</td>\n",
       "      <td>0.0</td>\n",
       "      <td>0.0</td>\n",
       "      <td>0.131868</td>\n",
       "      <td>0.005994</td>\n",
       "    </tr>\n",
       "    <tr>\n",
       "      <th>1</th>\n",
       "      <td>(low, performance, evaluation)</td>\n",
       "      <td>1.0</td>\n",
       "      <td>evaluation</td>\n",
       "      <td>0.0</td>\n",
       "      <td>0.0</td>\n",
       "      <td>0.131868</td>\n",
       "      <td>0.131868</td>\n",
       "    </tr>\n",
       "    <tr>\n",
       "      <th>2</th>\n",
       "      <td>(supervisor, griev, ance)</td>\n",
       "      <td>1.0</td>\n",
       "      <td>ance</td>\n",
       "      <td>0.0</td>\n",
       "      <td>0.0</td>\n",
       "      <td>0.131868</td>\n",
       "      <td>0.130869</td>\n",
       "    </tr>\n",
       "    <tr>\n",
       "      <th>3</th>\n",
       "      <td>(impact,)</td>\n",
       "      <td>1.0</td>\n",
       "      <td>impact</td>\n",
       "      <td>0.0</td>\n",
       "      <td>5.0</td>\n",
       "      <td>0.131868</td>\n",
       "      <td>0.131868</td>\n",
       "    </tr>\n",
       "    <tr>\n",
       "      <th>4</th>\n",
       "      <td>(evalua, tion)</td>\n",
       "      <td>1.0</td>\n",
       "      <td>tion</td>\n",
       "      <td>0.0</td>\n",
       "      <td>0.0</td>\n",
       "      <td>0.131868</td>\n",
       "      <td>0.015984</td>\n",
       "    </tr>\n",
       "  </tbody>\n",
       "</table>\n",
       "</div>"
      ],
      "text/plain": [
       "                                    np  np_count.and_ig_ig        root  \\\n",
       "0  (organizational, policy, grievance)                 1.0   grievance   \n",
       "1       (low, performance, evaluation)                 1.0  evaluation   \n",
       "2            (supervisor, griev, ance)                 1.0        ance   \n",
       "3                            (impact,)                 1.0      impact   \n",
       "4                       (evalua, tion)                 1.0        tion   \n",
       "\n",
       "   np_count.andnot_and_ig  np_count.andnot_andnot_and  np_first_occ  \\\n",
       "0                     0.0                         0.0      0.131868   \n",
       "1                     0.0                         0.0      0.131868   \n",
       "2                     0.0                         0.0      0.131868   \n",
       "3                     0.0                         5.0      0.131868   \n",
       "4                     0.0                         0.0      0.131868   \n",
       "\n",
       "   root_first_occ  \n",
       "0        0.005994  \n",
       "1        0.131868  \n",
       "2        0.130869  \n",
       "3        0.131868  \n",
       "4        0.015984  "
      ]
     },
     "execution_count": 562,
     "metadata": {},
     "output_type": "execute_result"
    }
   ],
   "source": [
    "vc0_.head()"
   ]
  },
  {
   "cell_type": "code",
   "execution_count": 362,
   "metadata": {},
   "outputs": [
    {
     "data": {
      "text/plain": [
       "2"
      ]
     },
     "execution_count": 362,
     "metadata": {},
     "output_type": "execute_result"
    }
   ],
   "source": [
    "len(dois_batch)"
   ]
  },
  {
   "cell_type": "code",
   "execution_count": 366,
   "metadata": {},
   "outputs": [
    {
     "name": "stdout",
     "output_type": "stream",
     "text": [
      "1\n",
      "['Because', 'respondents', 'could', 'indicate', 'experience', 'with', 'no', 'orTABLE', '1', 'Comparison', 'of', 'Men', 'and', 'Women', 'on', 'Wall', 'Street', 'by', 'Selected', 'Characteristics', 'Variable', 'All', 'Cases', 'Men', 'Women', 't', '-', 'Background', 'characteristics', 'Married', '60', '70', '54', '1', '.', '40', '.', '06', '.', '09', '.', '08', 'Parent', '43', '56', '34', '1', '.', '76', '.', '06', '.', '10', '.', '08', 'Nonwhite', '10', '4', '15', '1', '.', '63', '.', '04', '.', '04', '.', '06', 'Human', 'capital', 'Economic', 'major', '56', '44', '63', '1', '.', '55', '.', '06', '.', '10', '.', '08', 'Math', 'major', '21', '26', '17', '.', '88', '.', '05', '.', '09', '.', '06', 'Previous', 'Wall', 'St', '.', 'experience', '54', '59', '51', '.', '64', 'with', 'any', '.', '06', '.', '10', '.', '08', 'Job', '-', 'characteristics', 'Hours', 'week', 'mean', '61', '.', '62', '64', '.', '26', '59', '.', '88', '1', '.', '67', '1', '.', '30', '2', '.', '18', '1', '.', '58', 'Less', 'than', 'VP', '29', '15', '39', '2', '.', '33', '.', '06', '.', '07', '.', '08', 'VP', '59', '59', '59', '.', '06', '.', '06', '.', '10', '.', '10', 'Above', 'VP', '12', '26', '2', '2', '.', '63', '.', '04', '.', '09', '.', '02', 'Top', 'firm', '1997', '82', '89', '78', '1', '.', '21', '.', '05', '.', '06', '.', '07', 'Total', '1997', 'mean', '431', ',', '434', '566', ',', '111', '342', ',', '743', '3', '.', '96', '30', ',', '453', '50', ',', '887', '31', ',', '189', 'Note', ':', 'Numbers', 'in', 'parentheses', 'are', 'standard', 'errors', '.']\n",
      "9\n",
      "['Country', 'of', 'origin', '0', '.', '45', '0', '.', '50', '2', '.']\n",
      "['Gender', '0', '.', '49', '0', '.', '50', '.', '12', '3', '.']\n",
      "['Age', '0', '.', '41', '0', '.', '49', '-', '71', '-', '18', '4', '.']\n",
      "['Collectivism', '5', '.', '06', '0', '.', '85', '.', '39', '-', '05', '-', '19', '.', '73', '5', '.']\n",
      "['Group', 'membership', 'manipulation', '0', '.', '06', '1', '.', '00', '.', '12', '.', '00', '-', '07', '.', '09', '6', '.']\n",
      "['Task', 'manipulation', '0', '.', '07', '1', '.', '00', '.', '13', '.', '00', '-', '05', '.', '15', '.', '10', '7', '.']\n",
      "['Maintenance', 'manipulation', '0', '.', '09', '1', '.', '00', '.', '15', '.', '05', '-', '16', '.', '09', '.', '09', '.', '10', '8', '.']\n",
      "['Reward', 'generosityc', '0', '.', '00', '2', '.', '77', '.', '26', '.', '04', '-', '17', '.', '25', '.', '20', '.', '75', '.', '51', '.', '92', 'a', 'n', '330', '.']\n",
      "['Values', 'in', 'parentheses', 'are', 'scale', 'reliabilities', '.', 'b', 'For', 'age', ',', '0', '25', 'years', ',', '1', '2', '25', 'years', '.', 'c', 'Measured', 'as', 'the', 'sum', 'of', 'Z', '-', '.', 'p', '.', '05', 'p', '.', '01', '2000', '1101TABLE', '2', 'Results', 'of', 'Regression', 'Analysesa', 'Model', '2', 'Variableb', 'Model', '1', 'Individualists', 'Collectivists', 'Model', '3', ':', 'Collectivists', 'Step', '1', 'Gender', '.', '02', '0', '.', '30', '-', '01', '-', '.', '14', '.', '08', '0', '.', '87', '.', '08', '0', '.', '87', 'Age', '.', '03', '0', '.', '32', '.', '01', '0', '.', '14', '-', '01', '-', '.', '03', '-', '01', '-', '.', '03', 'Country', '.', '27', '3', '.', '56', '.', '17', '1', '.', '90', 't', '.', '23', '1', '.', '11', '.', '23', '1', '.', '11', 'R2', '.', '07', '.', '03', '.', '07', '.', '07', 'Step', '2', 'Collectivism', '.', '18', '3', '.', '06', 'Group', 'membership', '.', '16', '3', '.', '04', '.', '08', '1', '.', '84', 't', 'Task', 'inputs', '.', '62', '14', '.', '79', 'Maintenance', 'inputs', '.', '46', '6', '.', '99', '.', '58', '8', '.', '29', '.', '48', '11', '.', '44', 'AR2', '.', '05', '.', '20', '.', '32', '.', '71', 'Step', '3', 'Collectivism', 'x', 'group', 'membership', '.', '72', '2', '.', '31', 'Task', 'inputs', '.', '73', '19', '.', '92', '.', '63', '15', '.', '12', 'Group', 'membership', 'x', 'task', 'inputs', '.', '01', '0', '.', '16', 'Group', 'membership', 'x', 'maintenance', 'inputs', '-', '01', '-', '.', '21', 'AR2', '.', '02', '.', '52', '.', '39', '.', '02', 'Overall', 'model', 'F', '8', '.', '36', '113', '.', '65', '91', '.', '45', '57', '.', '75', 'Adjusted', 'R2', '.', '12', '.', '75', '.', '77', '.', '77', 'Standard', 'error', '2', '.', '60', '1', '.', '40', '1', '.', '26', '1', '.', '26', 'Degrees', 'of', 'freedom', '6', ',', '322', '5', ',', '186', '5', ',', '131', '8', ',', '128', 'a', 'Beta', 'coefficients', 'reported', 'are', 'from', 'each', 'step', 'of', 'the', 'hierarchical', 'regression', '.']\n"
     ]
    }
   ],
   "source": [
    "thr_freq = 0.4\n",
    "thr_len = 10\n",
    "for doi in dois_batch[:]:\n",
    "    carticle = articles_ds[doi]\n",
    "    iis = aape.find_tablelike_phrases(carticle, thr_freq=thr_freq, thr_len=thr_len)\n",
    "    print(len(iis))\n",
    "    for i in iis:\n",
    "        print(carticle[i])\n",
    "#     stat.sort_values('freq', ascending=False)\n",
    "#     chunks = aape.get_np_candidates(iis, crticle, nlp, 1)\n",
    "#     total_counts, total_counts_raw, table, tree_dict = aape.choose_popular_np_phrases(chunks)\n",
    "\n",
    "#     print(stat.sort_values('freq', ascending=False).head(5))"
   ]
  },
  {
   "cell_type": "code",
   "execution_count": 369,
   "metadata": {},
   "outputs": [],
   "source": [
    "phrase = carticle[iis[-3]]"
   ]
  },
  {
   "cell_type": "code",
   "execution_count": 394,
   "metadata": {},
   "outputs": [
    {
     "name": "stdout",
     "output_type": "stream",
     "text": [
      "[['Country', 'of', 'origin']]\n",
      "[['Gender']]\n",
      "[['Age']]\n",
      "[['Collectivism']]\n",
      "[['Group', 'membership', 'manipulation']]\n",
      "[['Task', 'manipulation']]\n",
      "[['Maintenance', 'manipulation']]\n",
      "[['Reward', 'generosityc'], ['a', 'n']]\n",
      "[['Values', 'in', 'parentheses', 'are', 'scale', 'reliabilities'], ['b', 'For', 'age', ','], ['years', ','], ['years'], ['c', 'Measured', 'as', 'the', 'sum', 'of', 'Z'], ['p'], ['p'], ['1101TABLE'], ['Results', 'of', 'Regression', 'Analysesa', 'Model'], ['Variableb', 'Model'], ['Individualists', 'Collectivists', 'Model'], ['Collectivists', 'Step'], ['Gender'], ['Age'], ['Country'], ['t'], ['R2'], ['Step'], ['Collectivism'], ['Group', 'membership'], ['t', 'Task', 'inputs'], ['Maintenance', 'inputs'], ['AR2'], ['Step'], ['Collectivism', 'x', 'group', 'membership'], ['Task', 'inputs'], ['Group', 'membership', 'x', 'task', 'inputs'], ['Group', 'membership', 'x', 'maintenance', 'inputs'], ['AR2'], ['Overall', 'model', 'F'], ['Adjusted', 'R2'], ['Standard', 'error'], ['Degrees', 'of', 'freedom'], [','], [','], [','], [','], ['a', 'Beta', 'coefficients', 'reported', 'are', 'from', 'each', 'step', 'of', 'the', 'hierarchical', 'regression']]\n"
     ]
    }
   ],
   "source": [
    "npb = aape.parse_table_phrases(carticle, iis, nlp)"
   ]
  },
  {
   "cell_type": "code",
   "execution_count": 395,
   "metadata": {},
   "outputs": [
    {
     "data": {
      "text/plain": [
       "[('country', ('country',), 154),\n",
       " ('origin', ('origin',), 154),\n",
       " ('gender', ('gender',), 155),\n",
       " ('age', ('age',), 156),\n",
       " ('collectivism', ('collectivism',), 157),\n",
       " ('manipulation', ('group', 'membership', 'manipulation'), 158),\n",
       " ('manipulation', ('task', 'manipulation'), 159),\n",
       " ('manipulation', ('maintenance', 'manipulation'), 160),\n",
       " ('generosityc', ('reward', 'generosityc'), 161),\n",
       " ('value', ('value',), 162),\n",
       " ('parenthesis', ('parenthesis',), 162),\n",
       " ('reliability', ('scale', 'reliability'), 162),\n",
       " ('age', ('age',), 162),\n",
       " ('year', ('year',), 162),\n",
       " ('year', ('year',), 162),\n",
       " ('sum', ('sum',), 162),\n",
       " ('z', ('z',), 162),\n",
       " ('result', ('result',), 162),\n",
       " ('step', ('collectivists', 'step'), 162),\n",
       " ('gender', ('gender',), 162),\n",
       " ('age', ('age',), 162),\n",
       " ('country', ('country',), 162),\n",
       " ('step', ('step',), 162),\n",
       " ('collectivism', ('collectivism',), 162),\n",
       " ('membership', ('group', 'membership'), 162),\n",
       " ('input', ('t', 'task', 'input'), 162),\n",
       " ('input', ('maintenance', 'input'), 162),\n",
       " ('ar2', ('ar2',), 162),\n",
       " ('step', ('step',), 162),\n",
       " ('membership', ('collectivism', 'x', 'group', 'membership'), 162),\n",
       " ('input', ('task', 'input'), 162),\n",
       " ('membership', ('group', 'membership'), 162),\n",
       " ('input', ('task', 'input'), 162),\n",
       " ('input', ('group', 'membership', 'x', 'maintenance', 'input'), 162),\n",
       " ('ar2', ('ar2',), 162),\n",
       " ('f', ('overall', 'model', 'f'), 162),\n",
       " ('r2', ('adjusted', 'r2'), 162),\n",
       " ('error', ('standard', 'error'), 162),\n",
       " ('degree', ('degree',), 162),\n",
       " ('freedom', ('freedom',), 162),\n",
       " ('coefficient', ('beta', 'coefficient'), 162),\n",
       " ('step', ('step',), 162),\n",
       " ('regression', ('hierarchical', 'regression'), 162)]"
      ]
     },
     "execution_count": 395,
     "metadata": {},
     "output_type": "execute_result"
    }
   ],
   "source": [
    "npb"
   ]
  },
  {
   "cell_type": "code",
   "execution_count": 398,
   "metadata": {},
   "outputs": [],
   "source": [
    "vc0_, foos = aape.get_high_level_stats(carticle, keywords, nlp)\n",
    "iis = aape.find_tablelike_phrases(carticle, thr_freq=thr_freq, thr_len=thr_len)\n",
    "npb = aape.parse_table_phrases(carticle, iis, nlp)"
   ]
  },
  {
   "cell_type": "code",
   "execution_count": 399,
   "metadata": {},
   "outputs": [
    {
     "name": "stdout",
     "output_type": "stream",
     "text": [
      "(290, 7)\n"
     ]
    },
    {
     "data": {
      "text/html": [
       "<div>\n",
       "<style scoped>\n",
       "    .dataframe tbody tr th:only-of-type {\n",
       "        vertical-align: middle;\n",
       "    }\n",
       "\n",
       "    .dataframe tbody tr th {\n",
       "        vertical-align: top;\n",
       "    }\n",
       "\n",
       "    .dataframe thead th {\n",
       "        text-align: right;\n",
       "    }\n",
       "</style>\n",
       "<table border=\"1\" class=\"dataframe\">\n",
       "  <thead>\n",
       "    <tr style=\"text-align: right;\">\n",
       "      <th></th>\n",
       "      <th>np</th>\n",
       "      <th>np_count.and_ig_ig</th>\n",
       "      <th>root</th>\n",
       "      <th>np_count.andnot_and_ig</th>\n",
       "      <th>np_count.andnot_andnot_and</th>\n",
       "      <th>np_first_occ</th>\n",
       "      <th>root_first_occ</th>\n",
       "    </tr>\n",
       "  </thead>\n",
       "  <tbody>\n",
       "    <tr>\n",
       "      <th>0</th>\n",
       "      <td>(hypothesis,)</td>\n",
       "      <td>10.0</td>\n",
       "      <td>hypothesis</td>\n",
       "      <td>0.0</td>\n",
       "      <td>0.0</td>\n",
       "      <td>0.167411</td>\n",
       "      <td>0.167411</td>\n",
       "    </tr>\n",
       "    <tr>\n",
       "      <th>1</th>\n",
       "      <td>(collectivist,)</td>\n",
       "      <td>4.0</td>\n",
       "      <td>collectivist</td>\n",
       "      <td>2.0</td>\n",
       "      <td>24.0</td>\n",
       "      <td>0.008929</td>\n",
       "      <td>0.008929</td>\n",
       "    </tr>\n",
       "    <tr>\n",
       "      <th>2</th>\n",
       "      <td>(individualist,)</td>\n",
       "      <td>2.0</td>\n",
       "      <td>individualist</td>\n",
       "      <td>1.0</td>\n",
       "      <td>14.0</td>\n",
       "      <td>0.008929</td>\n",
       "      <td>0.008929</td>\n",
       "    </tr>\n",
       "    <tr>\n",
       "      <th>3</th>\n",
       "      <td>(median, split)</td>\n",
       "      <td>2.0</td>\n",
       "      <td>split</td>\n",
       "      <td>0.0</td>\n",
       "      <td>2.0</td>\n",
       "      <td>0.363839</td>\n",
       "      <td>0.363839</td>\n",
       "    </tr>\n",
       "    <tr>\n",
       "      <th>4</th>\n",
       "      <td>(collectivism,)</td>\n",
       "      <td>2.0</td>\n",
       "      <td>collectivism</td>\n",
       "      <td>0.0</td>\n",
       "      <td>10.0</td>\n",
       "      <td>0.002232</td>\n",
       "      <td>0.002232</td>\n",
       "    </tr>\n",
       "  </tbody>\n",
       "</table>\n",
       "</div>"
      ],
      "text/plain": [
       "                 np  np_count.and_ig_ig           root  \\\n",
       "0     (hypothesis,)                10.0     hypothesis   \n",
       "1   (collectivist,)                 4.0   collectivist   \n",
       "2  (individualist,)                 2.0  individualist   \n",
       "3   (median, split)                 2.0          split   \n",
       "4   (collectivism,)                 2.0   collectivism   \n",
       "\n",
       "   np_count.andnot_and_ig  np_count.andnot_andnot_and  np_first_occ  \\\n",
       "0                     0.0                         0.0      0.167411   \n",
       "1                     2.0                        24.0      0.008929   \n",
       "2                     1.0                        14.0      0.008929   \n",
       "3                     0.0                         2.0      0.363839   \n",
       "4                     0.0                        10.0      0.002232   \n",
       "\n",
       "   root_first_occ  \n",
       "0        0.167411  \n",
       "1        0.008929  \n",
       "2        0.008929  \n",
       "3        0.363839  \n",
       "4        0.002232  "
      ]
     },
     "execution_count": 399,
     "metadata": {},
     "output_type": "execute_result"
    }
   ],
   "source": [
    "print(vc0_.shape)\n",
    "vc0_.head()"
   ]
  },
  {
   "cell_type": "code",
   "execution_count": 400,
   "metadata": {},
   "outputs": [],
   "source": [
    "root2chunk, chunk2root, pos2chunk, chunk2pos, pos2root, root2pos = foos"
   ]
  },
  {
   "cell_type": "code",
   "execution_count": 433,
   "metadata": {},
   "outputs": [
    {
     "data": {
      "text/html": [
       "<div>\n",
       "<style scoped>\n",
       "    .dataframe tbody tr th:only-of-type {\n",
       "        vertical-align: middle;\n",
       "    }\n",
       "\n",
       "    .dataframe tbody tr th {\n",
       "        vertical-align: top;\n",
       "    }\n",
       "\n",
       "    .dataframe thead th {\n",
       "        text-align: right;\n",
       "    }\n",
       "</style>\n",
       "<table border=\"1\" class=\"dataframe\">\n",
       "  <thead>\n",
       "    <tr style=\"text-align: right;\">\n",
       "      <th></th>\n",
       "      <th>np_count</th>\n",
       "      <th>pos</th>\n",
       "    </tr>\n",
       "  </thead>\n",
       "  <tbody>\n",
       "    <tr>\n",
       "      <th>0</th>\n",
       "      <td>(country,)</td>\n",
       "      <td>154</td>\n",
       "    </tr>\n",
       "    <tr>\n",
       "      <th>1</th>\n",
       "      <td>(origin,)</td>\n",
       "      <td>154</td>\n",
       "    </tr>\n",
       "    <tr>\n",
       "      <th>2</th>\n",
       "      <td>(gender,)</td>\n",
       "      <td>155</td>\n",
       "    </tr>\n",
       "    <tr>\n",
       "      <th>3</th>\n",
       "      <td>(age,)</td>\n",
       "      <td>156</td>\n",
       "    </tr>\n",
       "    <tr>\n",
       "      <th>4</th>\n",
       "      <td>(collectivism,)</td>\n",
       "      <td>157</td>\n",
       "    </tr>\n",
       "  </tbody>\n",
       "</table>\n",
       "</div>"
      ],
      "text/plain": [
       "          np_count  pos\n",
       "0       (country,)  154\n",
       "1        (origin,)  154\n",
       "2        (gender,)  155\n",
       "3           (age,)  156\n",
       "4  (collectivism,)  157"
      ]
     },
     "execution_count": 433,
     "metadata": {},
     "output_type": "execute_result"
    }
   ],
   "source": [
    "# for root, chunk, pos in npb:\n",
    "df = pd.DataFrame(npb, columns=['root', 'np_count', 'pos'])\n",
    "df[['np_count', 'pos']].head()"
   ]
  },
  {
   "cell_type": "code",
   "execution_count": 450,
   "metadata": {},
   "outputs": [
    {
     "data": {
      "text/html": [
       "<div>\n",
       "<style scoped>\n",
       "    .dataframe tbody tr th:only-of-type {\n",
       "        vertical-align: middle;\n",
       "    }\n",
       "\n",
       "    .dataframe tbody tr th {\n",
       "        vertical-align: top;\n",
       "    }\n",
       "\n",
       "    .dataframe thead th {\n",
       "        text-align: right;\n",
       "    }\n",
       "</style>\n",
       "<table border=\"1\" class=\"dataframe\">\n",
       "  <thead>\n",
       "    <tr style=\"text-align: right;\">\n",
       "      <th></th>\n",
       "      <th>np</th>\n",
       "      <th>np_count</th>\n",
       "    </tr>\n",
       "  </thead>\n",
       "  <tbody>\n",
       "    <tr>\n",
       "      <th>0</th>\n",
       "      <td>(step,)</td>\n",
       "      <td>3</td>\n",
       "    </tr>\n",
       "    <tr>\n",
       "      <th>1</th>\n",
       "      <td>(age,)</td>\n",
       "      <td>3</td>\n",
       "    </tr>\n",
       "    <tr>\n",
       "      <th>2</th>\n",
       "      <td>(ar2,)</td>\n",
       "      <td>2</td>\n",
       "    </tr>\n",
       "    <tr>\n",
       "      <th>3</th>\n",
       "      <td>(country,)</td>\n",
       "      <td>2</td>\n",
       "    </tr>\n",
       "    <tr>\n",
       "      <th>4</th>\n",
       "      <td>(group, membership)</td>\n",
       "      <td>2</td>\n",
       "    </tr>\n",
       "  </tbody>\n",
       "</table>\n",
       "</div>"
      ],
      "text/plain": [
       "                    np  np_count\n",
       "0              (step,)         3\n",
       "1               (age,)         3\n",
       "2               (ar2,)         2\n",
       "3           (country,)         2\n",
       "4  (group, membership)         2"
      ]
     },
     "execution_count": 450,
     "metadata": {},
     "output_type": "execute_result"
    }
   ],
   "source": [
    "np_min_pos = dict(df.groupby(['np_count']).apply(lambda x: x.pos.min()))\n",
    "chunk2root_table = dict(df.set_index(['np_count'])['root'].iteritems())\n",
    "root_min_pos = dict(df.groupby(['root']).apply(lambda x: x.pos.min()))\n",
    "vc = pd.DataFrame(df['np_count'].value_counts()).reset_index().rename(columns={'index': 'np'})\n",
    "vc.head()"
   ]
  },
  {
   "cell_type": "code",
   "execution_count": 455,
   "metadata": {},
   "outputs": [],
   "source": [
    "n = max(pos2root.keys())\n",
    "vc['root'] = vc['np'].apply(lambda x: chunk2root_table[x])\n",
    "vc['root_first_occ'] = vc['root'].apply(lambda x: min(list(root2pos[x]))/n if x in root2pos.keys() else root_min_pos[x]/n)\n",
    "vc['np_first_occ'] = vc['np'].apply(lambda x: min(list(chunk2pos[x]))/n if x in chunk2pos.keys() else np_min_pos[x]/n)"
   ]
  },
  {
   "cell_type": "code",
   "execution_count": 456,
   "metadata": {},
   "outputs": [
    {
     "data": {
      "text/html": [
       "<div>\n",
       "<style scoped>\n",
       "    .dataframe tbody tr th:only-of-type {\n",
       "        vertical-align: middle;\n",
       "    }\n",
       "\n",
       "    .dataframe tbody tr th {\n",
       "        vertical-align: top;\n",
       "    }\n",
       "\n",
       "    .dataframe thead th {\n",
       "        text-align: right;\n",
       "    }\n",
       "</style>\n",
       "<table border=\"1\" class=\"dataframe\">\n",
       "  <thead>\n",
       "    <tr style=\"text-align: right;\">\n",
       "      <th></th>\n",
       "      <th>np</th>\n",
       "      <th>np_count</th>\n",
       "      <th>root</th>\n",
       "      <th>root_first_occ</th>\n",
       "      <th>np_first_occ</th>\n",
       "    </tr>\n",
       "  </thead>\n",
       "  <tbody>\n",
       "    <tr>\n",
       "      <th>0</th>\n",
       "      <td>(step,)</td>\n",
       "      <td>3</td>\n",
       "      <td>step</td>\n",
       "      <td>0.339286</td>\n",
       "      <td>0.361607</td>\n",
       "    </tr>\n",
       "    <tr>\n",
       "      <th>1</th>\n",
       "      <td>(age,)</td>\n",
       "      <td>3</td>\n",
       "      <td>age</td>\n",
       "      <td>0.191964</td>\n",
       "      <td>0.191964</td>\n",
       "    </tr>\n",
       "    <tr>\n",
       "      <th>2</th>\n",
       "      <td>(ar2,)</td>\n",
       "      <td>2</td>\n",
       "      <td>ar2</td>\n",
       "      <td>0.361607</td>\n",
       "      <td>0.361607</td>\n",
       "    </tr>\n",
       "    <tr>\n",
       "      <th>3</th>\n",
       "      <td>(country,)</td>\n",
       "      <td>2</td>\n",
       "      <td>country</td>\n",
       "      <td>0.024554</td>\n",
       "      <td>0.040179</td>\n",
       "    </tr>\n",
       "    <tr>\n",
       "      <th>4</th>\n",
       "      <td>(group, membership)</td>\n",
       "      <td>2</td>\n",
       "      <td>membership</td>\n",
       "      <td>0.075893</td>\n",
       "      <td>0.361607</td>\n",
       "    </tr>\n",
       "  </tbody>\n",
       "</table>\n",
       "</div>"
      ],
      "text/plain": [
       "                    np  np_count        root  root_first_occ  np_first_occ\n",
       "0              (step,)         3        step        0.339286      0.361607\n",
       "1               (age,)         3         age        0.191964      0.191964\n",
       "2               (ar2,)         2         ar2        0.361607      0.361607\n",
       "3           (country,)         2     country        0.024554      0.040179\n",
       "4  (group, membership)         2  membership        0.075893      0.361607"
      ]
     },
     "execution_count": 456,
     "metadata": {},
     "output_type": "execute_result"
    }
   ],
   "source": [
    "vc.head()"
   ]
  },
  {
   "cell_type": "code",
   "execution_count": 457,
   "metadata": {},
   "outputs": [],
   "source": [
    "vc0_, foos = aape.get_high_level_stats(carticle, keywords, nlp)\n",
    "vc_table = aape.get_high_level_stats_table(carticle, nlp, foos, thr_freq, thr_len)"
   ]
  },
  {
   "cell_type": "code",
   "execution_count": 458,
   "metadata": {},
   "outputs": [
    {
     "data": {
      "text/html": [
       "<div>\n",
       "<style scoped>\n",
       "    .dataframe tbody tr th:only-of-type {\n",
       "        vertical-align: middle;\n",
       "    }\n",
       "\n",
       "    .dataframe tbody tr th {\n",
       "        vertical-align: top;\n",
       "    }\n",
       "\n",
       "    .dataframe thead th {\n",
       "        text-align: right;\n",
       "    }\n",
       "</style>\n",
       "<table border=\"1\" class=\"dataframe\">\n",
       "  <thead>\n",
       "    <tr style=\"text-align: right;\">\n",
       "      <th></th>\n",
       "      <th>np</th>\n",
       "      <th>np_count.and_ig_ig</th>\n",
       "      <th>root</th>\n",
       "      <th>np_count.andnot_and_ig</th>\n",
       "      <th>np_count.andnot_andnot_and</th>\n",
       "      <th>np_first_occ</th>\n",
       "      <th>root_first_occ</th>\n",
       "    </tr>\n",
       "  </thead>\n",
       "  <tbody>\n",
       "    <tr>\n",
       "      <th>0</th>\n",
       "      <td>(hypothesis,)</td>\n",
       "      <td>10.0</td>\n",
       "      <td>hypothesis</td>\n",
       "      <td>0.0</td>\n",
       "      <td>0.0</td>\n",
       "      <td>0.167411</td>\n",
       "      <td>0.167411</td>\n",
       "    </tr>\n",
       "    <tr>\n",
       "      <th>1</th>\n",
       "      <td>(collectivist,)</td>\n",
       "      <td>4.0</td>\n",
       "      <td>collectivist</td>\n",
       "      <td>2.0</td>\n",
       "      <td>24.0</td>\n",
       "      <td>0.008929</td>\n",
       "      <td>0.008929</td>\n",
       "    </tr>\n",
       "    <tr>\n",
       "      <th>2</th>\n",
       "      <td>(individualist,)</td>\n",
       "      <td>2.0</td>\n",
       "      <td>individualist</td>\n",
       "      <td>1.0</td>\n",
       "      <td>14.0</td>\n",
       "      <td>0.008929</td>\n",
       "      <td>0.008929</td>\n",
       "    </tr>\n",
       "    <tr>\n",
       "      <th>3</th>\n",
       "      <td>(median, split)</td>\n",
       "      <td>2.0</td>\n",
       "      <td>split</td>\n",
       "      <td>0.0</td>\n",
       "      <td>2.0</td>\n",
       "      <td>0.363839</td>\n",
       "      <td>0.363839</td>\n",
       "    </tr>\n",
       "    <tr>\n",
       "      <th>4</th>\n",
       "      <td>(collectivism,)</td>\n",
       "      <td>2.0</td>\n",
       "      <td>collectivism</td>\n",
       "      <td>0.0</td>\n",
       "      <td>10.0</td>\n",
       "      <td>0.002232</td>\n",
       "      <td>0.002232</td>\n",
       "    </tr>\n",
       "  </tbody>\n",
       "</table>\n",
       "</div>"
      ],
      "text/plain": [
       "                 np  np_count.and_ig_ig           root  \\\n",
       "0     (hypothesis,)                10.0     hypothesis   \n",
       "1   (collectivist,)                 4.0   collectivist   \n",
       "2  (individualist,)                 2.0  individualist   \n",
       "3   (median, split)                 2.0          split   \n",
       "4   (collectivism,)                 2.0   collectivism   \n",
       "\n",
       "   np_count.andnot_and_ig  np_count.andnot_andnot_and  np_first_occ  \\\n",
       "0                     0.0                         0.0      0.167411   \n",
       "1                     2.0                        24.0      0.008929   \n",
       "2                     1.0                        14.0      0.008929   \n",
       "3                     0.0                         2.0      0.363839   \n",
       "4                     0.0                        10.0      0.002232   \n",
       "\n",
       "   root_first_occ  \n",
       "0        0.167411  \n",
       "1        0.008929  \n",
       "2        0.008929  \n",
       "3        0.363839  \n",
       "4        0.002232  "
      ]
     },
     "execution_count": 458,
     "metadata": {},
     "output_type": "execute_result"
    }
   ],
   "source": [
    "vc0_.head()"
   ]
  },
  {
   "cell_type": "code",
   "execution_count": 496,
   "metadata": {},
   "outputs": [
    {
     "name": "stdout",
     "output_type": "stream",
     "text": [
      "32 290 (296, 8)\n"
     ]
    }
   ],
   "source": [
    "vc_table = vc_table.rename(columns={'np_count': 'np_count.{0}'.format('table')})\n",
    "non_occ_columns = [c for c in vc_table.columns if 'occ' not in c]\n",
    "vcs = [vc0_, vc_table[non_occ_columns]]\n",
    "vcs = reduce(lambda x, y: pd.merge(x, y, left_on=['np', 'root'], right_on=['np', 'root'], how='outer'), vcs)\n",
    "vcs['np_count.{0}'.format('table')] = vcs['np_count.{0}'.format('table')].fillna(0)\n",
    "\n",
    "print(vc_table.shape[0], vc0_.shape[0], vcs.shape)"
   ]
  },
  {
   "cell_type": "code",
   "execution_count": 497,
   "metadata": {},
   "outputs": [],
   "source": [
    "# vcs = vcs.set_index('np')"
   ]
  },
  {
   "cell_type": "code",
   "execution_count": 498,
   "metadata": {},
   "outputs": [
    {
     "data": {
      "text/plain": [
       "[('task', 'manipulation'),\n",
       " ('overall', 'model', 'f'),\n",
       " ('collectivism', 'x', 'group', 'membership'),\n",
       " ('reward', 'generosityc'),\n",
       " ('group', 'membership', 'manipulation'),\n",
       " ('maintenance', 'manipulation')]"
      ]
     },
     "execution_count": 498,
     "metadata": {},
     "output_type": "execute_result"
    }
   ],
   "source": [
    "null_mask = vcs['np_first_occ'].isnull()\n",
    "extra_nps = vcs.loc[null_mask, 'np'].tolist()\n",
    "# extra_nps = list(vcs.loc[null_mask].index)\n",
    "extra_nps"
   ]
  },
  {
   "cell_type": "code",
   "execution_count": 499,
   "metadata": {},
   "outputs": [],
   "source": [
    "mask_extras = vc_table['np'].isin(extra_nps)\n",
    "np_occ_dict = dict(vc_table.loc[mask_extras, ['np', 'np_first_occ']].values)\n",
    "root_occ_dict = dict(vc_table.loc[mask_extras, ['np', 'root_first_occ']].values)"
   ]
  },
  {
   "cell_type": "code",
   "execution_count": 500,
   "metadata": {},
   "outputs": [
    {
     "data": {
      "text/html": [
       "<div>\n",
       "<style scoped>\n",
       "    .dataframe tbody tr th:only-of-type {\n",
       "        vertical-align: middle;\n",
       "    }\n",
       "\n",
       "    .dataframe tbody tr th {\n",
       "        vertical-align: top;\n",
       "    }\n",
       "\n",
       "    .dataframe thead th {\n",
       "        text-align: right;\n",
       "    }\n",
       "</style>\n",
       "<table border=\"1\" class=\"dataframe\">\n",
       "  <thead>\n",
       "    <tr style=\"text-align: right;\">\n",
       "      <th></th>\n",
       "      <th>np</th>\n",
       "      <th>np_count.and_ig_ig</th>\n",
       "      <th>root</th>\n",
       "      <th>np_count.andnot_and_ig</th>\n",
       "      <th>np_count.andnot_andnot_and</th>\n",
       "      <th>np_first_occ</th>\n",
       "      <th>root_first_occ</th>\n",
       "      <th>np_count.table</th>\n",
       "    </tr>\n",
       "  </thead>\n",
       "  <tbody>\n",
       "    <tr>\n",
       "      <th>0</th>\n",
       "      <td>(hypothesis,)</td>\n",
       "      <td>10.0</td>\n",
       "      <td>hypothesis</td>\n",
       "      <td>0.0</td>\n",
       "      <td>0.0</td>\n",
       "      <td>0.167411</td>\n",
       "      <td>0.167411</td>\n",
       "      <td>0.0</td>\n",
       "    </tr>\n",
       "    <tr>\n",
       "      <th>1</th>\n",
       "      <td>(collectivist,)</td>\n",
       "      <td>4.0</td>\n",
       "      <td>collectivist</td>\n",
       "      <td>2.0</td>\n",
       "      <td>24.0</td>\n",
       "      <td>0.008929</td>\n",
       "      <td>0.008929</td>\n",
       "      <td>0.0</td>\n",
       "    </tr>\n",
       "    <tr>\n",
       "      <th>2</th>\n",
       "      <td>(individualist,)</td>\n",
       "      <td>2.0</td>\n",
       "      <td>individualist</td>\n",
       "      <td>1.0</td>\n",
       "      <td>14.0</td>\n",
       "      <td>0.008929</td>\n",
       "      <td>0.008929</td>\n",
       "      <td>0.0</td>\n",
       "    </tr>\n",
       "    <tr>\n",
       "      <th>3</th>\n",
       "      <td>(median, split)</td>\n",
       "      <td>2.0</td>\n",
       "      <td>split</td>\n",
       "      <td>0.0</td>\n",
       "      <td>2.0</td>\n",
       "      <td>0.363839</td>\n",
       "      <td>0.363839</td>\n",
       "      <td>0.0</td>\n",
       "    </tr>\n",
       "    <tr>\n",
       "      <th>4</th>\n",
       "      <td>(collectivism,)</td>\n",
       "      <td>2.0</td>\n",
       "      <td>collectivism</td>\n",
       "      <td>0.0</td>\n",
       "      <td>10.0</td>\n",
       "      <td>0.002232</td>\n",
       "      <td>0.002232</td>\n",
       "      <td>2.0</td>\n",
       "    </tr>\n",
       "  </tbody>\n",
       "</table>\n",
       "</div>"
      ],
      "text/plain": [
       "                 np  np_count.and_ig_ig           root  \\\n",
       "0     (hypothesis,)                10.0     hypothesis   \n",
       "1   (collectivist,)                 4.0   collectivist   \n",
       "2  (individualist,)                 2.0  individualist   \n",
       "3   (median, split)                 2.0          split   \n",
       "4   (collectivism,)                 2.0   collectivism   \n",
       "\n",
       "   np_count.andnot_and_ig  np_count.andnot_andnot_and  np_first_occ  \\\n",
       "0                     0.0                         0.0      0.167411   \n",
       "1                     2.0                        24.0      0.008929   \n",
       "2                     1.0                        14.0      0.008929   \n",
       "3                     0.0                         2.0      0.363839   \n",
       "4                     0.0                        10.0      0.002232   \n",
       "\n",
       "   root_first_occ  np_count.table  \n",
       "0        0.167411             0.0  \n",
       "1        0.008929             0.0  \n",
       "2        0.008929             0.0  \n",
       "3        0.363839             0.0  \n",
       "4        0.002232             2.0  "
      ]
     },
     "execution_count": 500,
     "metadata": {},
     "output_type": "execute_result"
    }
   ],
   "source": [
    "vcs.head()"
   ]
  },
  {
   "cell_type": "code",
   "execution_count": 511,
   "metadata": {},
   "outputs": [],
   "source": [
    "vcs.loc[null_mask, 'np_first_occ'] = vcs.loc[null_mask, \n",
    "                                             ['np', 'np_first_occ']].apply(lambda x: np_occ_dict[x['np']], axis=1)\n",
    "vcs.loc[null_mask, 'root_first_occ'] = vcs.loc[null_mask, \n",
    "                                               ['np', 'root_first_occ']].apply(lambda x: np_occ_dict[x['np']], axis=1)"
   ]
  },
  {
   "cell_type": "code",
   "execution_count": 513,
   "metadata": {},
   "outputs": [
    {
     "data": {
      "text/plain": [
       "0"
      ]
     },
     "execution_count": 513,
     "metadata": {},
     "output_type": "execute_result"
    }
   ],
   "source": [
    "null_mask = vcs['np_first_occ'].isnull()\n",
    "sum(null_mask)"
   ]
  },
  {
   "cell_type": "code",
   "execution_count": 538,
   "metadata": {},
   "outputs": [
    {
     "ename": "TypeError",
     "evalue": "descriptor 'union' of 'set' object needs an argument",
     "output_type": "error",
     "traceback": [
      "\u001b[0;31m---------------------------------------------------------------------------\u001b[0m",
      "\u001b[0;31mTypeError\u001b[0m                                 Traceback (most recent call last)",
      "\u001b[0;32m<ipython-input-538-2fcdc4a3b81b>\u001b[0m in \u001b[0;36m<module>\u001b[0;34m\u001b[0m\n\u001b[1;32m      6\u001b[0m \u001b[0mdfr\u001b[0m\u001b[0;34m[\u001b[0m\u001b[0;34m'n_words'\u001b[0m\u001b[0;34m]\u001b[0m \u001b[0;34m=\u001b[0m \u001b[0mn_words\u001b[0m\u001b[0;34m\u001b[0m\u001b[0;34m\u001b[0m\u001b[0m\n\u001b[1;32m      7\u001b[0m \u001b[0;34m\u001b[0m\u001b[0m\n\u001b[0;32m----> 8\u001b[0;31m \u001b[0mdfr2\u001b[0m \u001b[0;34m=\u001b[0m \u001b[0maape\u001b[0m\u001b[0;34m.\u001b[0m\u001b[0mcombine_keyword_table\u001b[0m\u001b[0;34m(\u001b[0m\u001b[0mcarticle\u001b[0m\u001b[0;34m[\u001b[0m\u001b[0;34m:\u001b[0m\u001b[0;36m5\u001b[0m\u001b[0;34m]\u001b[0m\u001b[0;34m,\u001b[0m \u001b[0mkeywords\u001b[0m\u001b[0;34m,\u001b[0m \u001b[0mnlp\u001b[0m\u001b[0;34m,\u001b[0m \u001b[0;36m0.4\u001b[0m\u001b[0;34m,\u001b[0m \u001b[0;36m10\u001b[0m\u001b[0;34m)\u001b[0m\u001b[0;34m\u001b[0m\u001b[0;34m\u001b[0m\u001b[0m\n\u001b[0m",
      "\u001b[0;32m~/work/research/codes/python/kl/misc_lib/article_analysis/article_analysis/parse_ent.py\u001b[0m in \u001b[0;36mcombine_keyword_table\u001b[0;34m(carticle, keywords, nlp, thr_freq, thr_len)\u001b[0m\n\u001b[1;32m    380\u001b[0m \u001b[0;34m\u001b[0m\u001b[0m\n\u001b[1;32m    381\u001b[0m \u001b[0;32mdef\u001b[0m \u001b[0mcombine_keyword_table\u001b[0m\u001b[0;34m(\u001b[0m\u001b[0mcarticle\u001b[0m\u001b[0;34m,\u001b[0m \u001b[0mkeywords\u001b[0m\u001b[0;34m,\u001b[0m \u001b[0mnlp\u001b[0m\u001b[0;34m,\u001b[0m \u001b[0mthr_freq\u001b[0m\u001b[0;34m,\u001b[0m \u001b[0mthr_len\u001b[0m\u001b[0;34m)\u001b[0m\u001b[0;34m:\u001b[0m\u001b[0;34m\u001b[0m\u001b[0;34m\u001b[0m\u001b[0m\n\u001b[0;32m--> 382\u001b[0;31m     \u001b[0mvc0_\u001b[0m\u001b[0;34m,\u001b[0m \u001b[0mfoos\u001b[0m \u001b[0;34m=\u001b[0m \u001b[0mget_high_level_stats\u001b[0m\u001b[0;34m(\u001b[0m\u001b[0mcarticle\u001b[0m\u001b[0;34m,\u001b[0m \u001b[0mkeywords\u001b[0m\u001b[0;34m,\u001b[0m \u001b[0mnlp\u001b[0m\u001b[0;34m)\u001b[0m\u001b[0;34m\u001b[0m\u001b[0;34m\u001b[0m\u001b[0m\n\u001b[0m\u001b[1;32m    383\u001b[0m     \u001b[0mvc_table\u001b[0m \u001b[0;34m=\u001b[0m \u001b[0mget_high_level_stats_table\u001b[0m\u001b[0;34m(\u001b[0m\u001b[0mcarticle\u001b[0m\u001b[0;34m,\u001b[0m \u001b[0mnlp\u001b[0m\u001b[0;34m,\u001b[0m \u001b[0mfoos\u001b[0m\u001b[0;34m,\u001b[0m \u001b[0mthr_freq\u001b[0m\u001b[0;34m,\u001b[0m \u001b[0mthr_len\u001b[0m\u001b[0;34m)\u001b[0m\u001b[0;34m\u001b[0m\u001b[0;34m\u001b[0m\u001b[0m\n\u001b[1;32m    384\u001b[0m     \u001b[0mvc_table\u001b[0m \u001b[0;34m=\u001b[0m \u001b[0mvc_table\u001b[0m\u001b[0;34m.\u001b[0m\u001b[0mrename\u001b[0m\u001b[0;34m(\u001b[0m\u001b[0mcolumns\u001b[0m\u001b[0;34m=\u001b[0m\u001b[0;34m{\u001b[0m\u001b[0;34m'np_count'\u001b[0m\u001b[0;34m:\u001b[0m \u001b[0;34m'np_count.{0}'\u001b[0m\u001b[0;34m.\u001b[0m\u001b[0mformat\u001b[0m\u001b[0;34m(\u001b[0m\u001b[0;34m'table'\u001b[0m\u001b[0;34m)\u001b[0m\u001b[0;34m}\u001b[0m\u001b[0;34m)\u001b[0m\u001b[0;34m\u001b[0m\u001b[0;34m\u001b[0m\u001b[0m\n",
      "\u001b[0;32m~/work/research/codes/python/kl/misc_lib/article_analysis/article_analysis/parse_ent.py\u001b[0m in \u001b[0;36mget_high_level_stats\u001b[0;34m(carticle, keywords, nlp)\u001b[0m\n\u001b[1;32m    282\u001b[0m                                                               \u001b[0mkeys_flag\u001b[0m\u001b[0;34m=\u001b[0m\u001b[0;34m'or'\u001b[0m\u001b[0;34m,\u001b[0m \u001b[0msecond_order\u001b[0m\u001b[0;34m=\u001b[0m\u001b[0;32mTrue\u001b[0m\u001b[0;34m,\u001b[0m\u001b[0;34m\u001b[0m\u001b[0;34m\u001b[0m\u001b[0m\n\u001b[1;32m    283\u001b[0m                                                               \u001b[0mshift\u001b[0m\u001b[0;34m=\u001b[0m\u001b[0;36m0\u001b[0m\u001b[0;34m,\u001b[0m \u001b[0mroot_flag\u001b[0m\u001b[0;34m=\u001b[0m\u001b[0;32mTrue\u001b[0m\u001b[0;34m,\u001b[0m\u001b[0;34m\u001b[0m\u001b[0;34m\u001b[0m\u001b[0m\n\u001b[0;32m--> 284\u001b[0;31m                                                               verbose=False)\n\u001b[0m\u001b[1;32m    285\u001b[0m \u001b[0;34m\u001b[0m\u001b[0m\n\u001b[1;32m    286\u001b[0m     \u001b[0mop_vec\u001b[0m \u001b[0;34m=\u001b[0m \u001b[0;34m[\u001b[0m\u001b[0;34m'and'\u001b[0m\u001b[0;34m,\u001b[0m \u001b[0;34m'ig'\u001b[0m\u001b[0;34m,\u001b[0m \u001b[0;34m'ig'\u001b[0m\u001b[0;34m]\u001b[0m\u001b[0;34m\u001b[0m\u001b[0;34m\u001b[0m\u001b[0m\n",
      "\u001b[0;32m~/work/research/codes/python/kl/misc_lib/article_analysis/article_analysis/parse_ent.py\u001b[0m in \u001b[0;36mget_keyword_phrase_ixs\u001b[0;34m(carticle, keys, nlp, np_bag, foos, keys_flag, shift, second_order, root_flag, verbose)\u001b[0m\n\u001b[1;32m    210\u001b[0m         \u001b[0miis\u001b[0m \u001b[0;34m=\u001b[0m \u001b[0msorted\u001b[0m\u001b[0;34m(\u001b[0m\u001b[0mset\u001b[0m\u001b[0;34m.\u001b[0m\u001b[0munion\u001b[0m\u001b[0;34m(\u001b[0m\u001b[0;34m*\u001b[0m\u001b[0mlv\u001b[0m\u001b[0;34m)\u001b[0m\u001b[0;34m)\u001b[0m\u001b[0;34m\u001b[0m\u001b[0;34m\u001b[0m\u001b[0m\n\u001b[1;32m    211\u001b[0m         \u001b[0mcandidate_nps\u001b[0m \u001b[0;34m=\u001b[0m \u001b[0;34m[\u001b[0m\u001b[0mpos2chunk\u001b[0m\u001b[0;34m[\u001b[0m\u001b[0mj\u001b[0m\u001b[0;34m]\u001b[0m \u001b[0;32mfor\u001b[0m \u001b[0mj\u001b[0m \u001b[0;32min\u001b[0m \u001b[0miis\u001b[0m\u001b[0;34m]\u001b[0m\u001b[0;34m\u001b[0m\u001b[0;34m\u001b[0m\u001b[0m\n\u001b[0;32m--> 212\u001b[0;31m         \u001b[0mtarget_nps\u001b[0m \u001b[0;34m=\u001b[0m \u001b[0msorted\u001b[0m\u001b[0;34m(\u001b[0m\u001b[0mset\u001b[0m\u001b[0;34m.\u001b[0m\u001b[0munion\u001b[0m\u001b[0;34m(\u001b[0m\u001b[0;34m*\u001b[0m\u001b[0mcandidate_nps\u001b[0m\u001b[0;34m)\u001b[0m\u001b[0;34m)\u001b[0m\u001b[0;34m\u001b[0m\u001b[0;34m\u001b[0m\u001b[0m\n\u001b[0m\u001b[1;32m    213\u001b[0m         \u001b[0;31m# and run the first order wit shift 0 and root_flag False on them\u001b[0m\u001b[0;34m\u001b[0m\u001b[0;34m\u001b[0m\u001b[0;34m\u001b[0m\u001b[0m\n\u001b[1;32m    214\u001b[0m         return get_keyword_phrase_ixs(carticle, target_nps, nlp, np_bag, foos, keys_flag='or',\n",
      "\u001b[0;31mTypeError\u001b[0m: descriptor 'union' of 'set' object needs an argument"
     ]
    }
   ],
   "source": [
    "dfr = aape.combine_keyword_table(carticle, keywords, nlp, 0.4, 10)\n",
    "dfr['doi'] = 'doi:1'\n",
    "n_phrases = len(carticle)\n",
    "n_words = sum([len(x) for x in carticle])\n",
    "dfr['n_phrases'] = n_phrases\n",
    "dfr['n_words'] = n_words\n",
    "\n",
    "dfr2 = aape.combine_keyword_table(carticle[:5], keywords, nlp, 0.4, 10)"
   ]
  },
  {
   "cell_type": "code",
   "execution_count": 552,
   "metadata": {},
   "outputs": [],
   "source": [
    "dfr2 = aape.combine_keyword_table(carticle[:5], keywords, nlp, 0.4, 10)\n",
    "dfr2 = pd.DataFrame([[np.nan]*dfr2.shape[1]], columns=dfr2.columns)\n",
    "dfr2['doi'] = 'doi:2'\n",
    "n_phrases = len(carticle[:5])\n",
    "n_words = sum([len(x) for x in carticle[:5]])\n",
    "dfr2['n_phrases'] = n_phrases\n",
    "dfr2['n_words'] = n_words\n"
   ]
  },
  {
   "cell_type": "code",
   "execution_count": 553,
   "metadata": {},
   "outputs": [
    {
     "data": {
      "text/plain": [
       "((296, 11), (1, 11))"
      ]
     },
     "execution_count": 553,
     "metadata": {},
     "output_type": "execute_result"
    }
   ],
   "source": [
    "dfr.shape, dfr2.shape"
   ]
  },
  {
   "cell_type": "code",
   "execution_count": 554,
   "metadata": {},
   "outputs": [
    {
     "data": {
      "text/html": [
       "<div>\n",
       "<style scoped>\n",
       "    .dataframe tbody tr th:only-of-type {\n",
       "        vertical-align: middle;\n",
       "    }\n",
       "\n",
       "    .dataframe tbody tr th {\n",
       "        vertical-align: top;\n",
       "    }\n",
       "\n",
       "    .dataframe thead th {\n",
       "        text-align: right;\n",
       "    }\n",
       "</style>\n",
       "<table border=\"1\" class=\"dataframe\">\n",
       "  <thead>\n",
       "    <tr style=\"text-align: right;\">\n",
       "      <th></th>\n",
       "      <th>np_count.and_ig_ig</th>\n",
       "      <th>np_count.andnot_and_ig</th>\n",
       "      <th>np_count.andnot_andnot_and</th>\n",
       "      <th>np_first_occ</th>\n",
       "      <th>root_first_occ</th>\n",
       "      <th>np</th>\n",
       "      <th>np_count.table</th>\n",
       "      <th>root</th>\n",
       "      <th>doi</th>\n",
       "      <th>n_phrases</th>\n",
       "      <th>n_words</th>\n",
       "    </tr>\n",
       "  </thead>\n",
       "  <tbody>\n",
       "    <tr>\n",
       "      <th>0</th>\n",
       "      <td>NaN</td>\n",
       "      <td>NaN</td>\n",
       "      <td>NaN</td>\n",
       "      <td>NaN</td>\n",
       "      <td>NaN</td>\n",
       "      <td>NaN</td>\n",
       "      <td>NaN</td>\n",
       "      <td>NaN</td>\n",
       "      <td>doi:2</td>\n",
       "      <td>5</td>\n",
       "      <td>103</td>\n",
       "    </tr>\n",
       "  </tbody>\n",
       "</table>\n",
       "</div>"
      ],
      "text/plain": [
       "   np_count.and_ig_ig  np_count.andnot_and_ig  np_count.andnot_andnot_and  \\\n",
       "0                 NaN                     NaN                         NaN   \n",
       "\n",
       "   np_first_occ  root_first_occ  np  np_count.table  root    doi  n_phrases  \\\n",
       "0           NaN             NaN NaN             NaN   NaN  doi:2          5   \n",
       "\n",
       "   n_words  \n",
       "0      103  "
      ]
     },
     "execution_count": 554,
     "metadata": {},
     "output_type": "execute_result"
    }
   ],
   "source": [
    "dfr2.head()"
   ]
  },
  {
   "cell_type": "code",
   "execution_count": 534,
   "metadata": {},
   "outputs": [
    {
     "data": {
      "text/html": [
       "<div>\n",
       "<style scoped>\n",
       "    .dataframe tbody tr th:only-of-type {\n",
       "        vertical-align: middle;\n",
       "    }\n",
       "\n",
       "    .dataframe tbody tr th {\n",
       "        vertical-align: top;\n",
       "    }\n",
       "\n",
       "    .dataframe thead th {\n",
       "        text-align: right;\n",
       "    }\n",
       "</style>\n",
       "<table border=\"1\" class=\"dataframe\">\n",
       "  <thead>\n",
       "    <tr style=\"text-align: right;\">\n",
       "      <th></th>\n",
       "      <th>np</th>\n",
       "      <th>np_count.and_ig_ig</th>\n",
       "      <th>root</th>\n",
       "      <th>np_count.andnot_and_ig</th>\n",
       "      <th>np_count.andnot_andnot_and</th>\n",
       "      <th>np_first_occ</th>\n",
       "      <th>root_first_occ</th>\n",
       "      <th>np_count.table</th>\n",
       "      <th>doi</th>\n",
       "      <th>n_phrases</th>\n",
       "      <th>n_words</th>\n",
       "    </tr>\n",
       "  </thead>\n",
       "  <tbody>\n",
       "    <tr>\n",
       "      <th>0</th>\n",
       "      <td>(hypothesis,)</td>\n",
       "      <td>10.0</td>\n",
       "      <td>hypothesis</td>\n",
       "      <td>0.0</td>\n",
       "      <td>0.0</td>\n",
       "      <td>0.167411</td>\n",
       "      <td>0.167411</td>\n",
       "      <td>0.0</td>\n",
       "      <td>doi:1</td>\n",
       "      <td>449</td>\n",
       "      <td>8609</td>\n",
       "    </tr>\n",
       "    <tr>\n",
       "      <th>1</th>\n",
       "      <td>(collectivist,)</td>\n",
       "      <td>4.0</td>\n",
       "      <td>collectivist</td>\n",
       "      <td>2.0</td>\n",
       "      <td>24.0</td>\n",
       "      <td>0.008929</td>\n",
       "      <td>0.008929</td>\n",
       "      <td>0.0</td>\n",
       "      <td>doi:1</td>\n",
       "      <td>449</td>\n",
       "      <td>8609</td>\n",
       "    </tr>\n",
       "    <tr>\n",
       "      <th>2</th>\n",
       "      <td>(individualist,)</td>\n",
       "      <td>2.0</td>\n",
       "      <td>individualist</td>\n",
       "      <td>1.0</td>\n",
       "      <td>14.0</td>\n",
       "      <td>0.008929</td>\n",
       "      <td>0.008929</td>\n",
       "      <td>0.0</td>\n",
       "      <td>doi:1</td>\n",
       "      <td>449</td>\n",
       "      <td>8609</td>\n",
       "    </tr>\n",
       "    <tr>\n",
       "      <th>3</th>\n",
       "      <td>(median, split)</td>\n",
       "      <td>2.0</td>\n",
       "      <td>split</td>\n",
       "      <td>0.0</td>\n",
       "      <td>2.0</td>\n",
       "      <td>0.363839</td>\n",
       "      <td>0.363839</td>\n",
       "      <td>0.0</td>\n",
       "      <td>doi:1</td>\n",
       "      <td>449</td>\n",
       "      <td>8609</td>\n",
       "    </tr>\n",
       "    <tr>\n",
       "      <th>4</th>\n",
       "      <td>(collectivism,)</td>\n",
       "      <td>2.0</td>\n",
       "      <td>collectivism</td>\n",
       "      <td>0.0</td>\n",
       "      <td>10.0</td>\n",
       "      <td>0.002232</td>\n",
       "      <td>0.002232</td>\n",
       "      <td>2.0</td>\n",
       "      <td>doi:1</td>\n",
       "      <td>449</td>\n",
       "      <td>8609</td>\n",
       "    </tr>\n",
       "  </tbody>\n",
       "</table>\n",
       "</div>"
      ],
      "text/plain": [
       "                 np  np_count.and_ig_ig           root  \\\n",
       "0     (hypothesis,)                10.0     hypothesis   \n",
       "1   (collectivist,)                 4.0   collectivist   \n",
       "2  (individualist,)                 2.0  individualist   \n",
       "3   (median, split)                 2.0          split   \n",
       "4   (collectivism,)                 2.0   collectivism   \n",
       "\n",
       "   np_count.andnot_and_ig  np_count.andnot_andnot_and  np_first_occ  \\\n",
       "0                     0.0                         0.0      0.167411   \n",
       "1                     2.0                        24.0      0.008929   \n",
       "2                     1.0                        14.0      0.008929   \n",
       "3                     0.0                         2.0      0.363839   \n",
       "4                     0.0                        10.0      0.002232   \n",
       "\n",
       "   root_first_occ  np_count.table    doi  n_phrases  n_words  \n",
       "0        0.167411             0.0  doi:1        449     8609  \n",
       "1        0.008929             0.0  doi:1        449     8609  \n",
       "2        0.008929             0.0  doi:1        449     8609  \n",
       "3        0.363839             0.0  doi:1        449     8609  \n",
       "4        0.002232             2.0  doi:1        449     8609  "
      ]
     },
     "execution_count": 534,
     "metadata": {},
     "output_type": "execute_result"
    }
   ],
   "source": [
    "dfr['doi'] = 'doi:1'\n",
    "n_phrases = len(carticle)\n",
    "n_words = sum([len(x) for x in carticle])\n",
    "dfr['n_phrases'] = n_phrases\n",
    "dfr['n_words'] = n_words\n",
    "dfr.head()"
   ]
  },
  {
   "cell_type": "code",
   "execution_count": 517,
   "metadata": {},
   "outputs": [],
   "source": [
    "df_empty = pd.DataFrame()"
   ]
  },
  {
   "cell_type": "code",
   "execution_count": 520,
   "metadata": {},
   "outputs": [],
   "source": [
    "df_empty['doi'] = 'doi:2'"
   ]
  },
  {
   "cell_type": "code",
   "execution_count": 530,
   "metadata": {},
   "outputs": [],
   "source": [
    "frames = [dfr, df_empty]"
   ]
  },
  {
   "cell_type": "code",
   "execution_count": 523,
   "metadata": {},
   "outputs": [
    {
     "name": "stderr",
     "output_type": "stream",
     "text": [
      "/Users/belikov/anaconda/envs/aa/lib/python3.6/site-packages/ipykernel_launcher.py:1: FutureWarning: Sorting because non-concatenation axis is not aligned. A future version\n",
      "of pandas will change to not sort by default.\n",
      "\n",
      "To accept the future behavior, pass 'sort=False'.\n",
      "\n",
      "To retain the current behavior and silence the warning, pass 'sort=True'.\n",
      "\n",
      "  \"\"\"Entry point for launching an IPython kernel.\n"
     ]
    },
    {
     "data": {
      "text/html": [
       "<div>\n",
       "<style scoped>\n",
       "    .dataframe tbody tr th:only-of-type {\n",
       "        vertical-align: middle;\n",
       "    }\n",
       "\n",
       "    .dataframe tbody tr th {\n",
       "        vertical-align: top;\n",
       "    }\n",
       "\n",
       "    .dataframe thead th {\n",
       "        text-align: right;\n",
       "    }\n",
       "</style>\n",
       "<table border=\"1\" class=\"dataframe\">\n",
       "  <thead>\n",
       "    <tr style=\"text-align: right;\">\n",
       "      <th></th>\n",
       "      <th>doi</th>\n",
       "      <th>np</th>\n",
       "      <th>np_count.and_ig_ig</th>\n",
       "      <th>np_count.andnot_and_ig</th>\n",
       "      <th>np_count.andnot_andnot_and</th>\n",
       "      <th>np_count.table</th>\n",
       "      <th>np_first_occ</th>\n",
       "      <th>root</th>\n",
       "      <th>root_first_occ</th>\n",
       "    </tr>\n",
       "  </thead>\n",
       "  <tbody>\n",
       "    <tr>\n",
       "      <th>0</th>\n",
       "      <td>doi:1</td>\n",
       "      <td>(hypothesis,)</td>\n",
       "      <td>10.0</td>\n",
       "      <td>0.0</td>\n",
       "      <td>0.0</td>\n",
       "      <td>0.0</td>\n",
       "      <td>0.167411</td>\n",
       "      <td>hypothesis</td>\n",
       "      <td>0.167411</td>\n",
       "    </tr>\n",
       "    <tr>\n",
       "      <th>1</th>\n",
       "      <td>doi:1</td>\n",
       "      <td>(collectivist,)</td>\n",
       "      <td>4.0</td>\n",
       "      <td>2.0</td>\n",
       "      <td>24.0</td>\n",
       "      <td>0.0</td>\n",
       "      <td>0.008929</td>\n",
       "      <td>collectivist</td>\n",
       "      <td>0.008929</td>\n",
       "    </tr>\n",
       "    <tr>\n",
       "      <th>2</th>\n",
       "      <td>doi:1</td>\n",
       "      <td>(individualist,)</td>\n",
       "      <td>2.0</td>\n",
       "      <td>1.0</td>\n",
       "      <td>14.0</td>\n",
       "      <td>0.0</td>\n",
       "      <td>0.008929</td>\n",
       "      <td>individualist</td>\n",
       "      <td>0.008929</td>\n",
       "    </tr>\n",
       "    <tr>\n",
       "      <th>3</th>\n",
       "      <td>doi:1</td>\n",
       "      <td>(median, split)</td>\n",
       "      <td>2.0</td>\n",
       "      <td>0.0</td>\n",
       "      <td>2.0</td>\n",
       "      <td>0.0</td>\n",
       "      <td>0.363839</td>\n",
       "      <td>split</td>\n",
       "      <td>0.363839</td>\n",
       "    </tr>\n",
       "    <tr>\n",
       "      <th>4</th>\n",
       "      <td>doi:1</td>\n",
       "      <td>(collectivism,)</td>\n",
       "      <td>2.0</td>\n",
       "      <td>0.0</td>\n",
       "      <td>10.0</td>\n",
       "      <td>2.0</td>\n",
       "      <td>0.002232</td>\n",
       "      <td>collectivism</td>\n",
       "      <td>0.002232</td>\n",
       "    </tr>\n",
       "  </tbody>\n",
       "</table>\n",
       "</div>"
      ],
      "text/plain": [
       "     doi                np  np_count.and_ig_ig  np_count.andnot_and_ig  \\\n",
       "0  doi:1     (hypothesis,)                10.0                     0.0   \n",
       "1  doi:1   (collectivist,)                 4.0                     2.0   \n",
       "2  doi:1  (individualist,)                 2.0                     1.0   \n",
       "3  doi:1   (median, split)                 2.0                     0.0   \n",
       "4  doi:1   (collectivism,)                 2.0                     0.0   \n",
       "\n",
       "   np_count.andnot_andnot_and  np_count.table  np_first_occ           root  \\\n",
       "0                         0.0             0.0      0.167411     hypothesis   \n",
       "1                        24.0             0.0      0.008929   collectivist   \n",
       "2                        14.0             0.0      0.008929  individualist   \n",
       "3                         2.0             0.0      0.363839          split   \n",
       "4                        10.0             2.0      0.002232   collectivism   \n",
       "\n",
       "   root_first_occ  \n",
       "0        0.167411  \n",
       "1        0.008929  \n",
       "2        0.008929  \n",
       "3        0.363839  \n",
       "4        0.002232  "
      ]
     },
     "execution_count": 523,
     "metadata": {},
     "output_type": "execute_result"
    }
   ],
   "source": [
    "pd.concat([dfr, df_empty], axis=0).head()"
   ]
  },
  {
   "cell_type": "code",
   "execution_count": 525,
   "metadata": {},
   "outputs": [
    {
     "data": {
      "text/plain": [
       "['np',\n",
       " 'doi',\n",
       " 'root',\n",
       " 'np_first_occ',\n",
       " 'root_first_occ',\n",
       " 'np_count.table',\n",
       " 'np_count.and_ig_ig',\n",
       " 'np_count.andnot_and_ig',\n",
       " 'np_count.andnot_andnot_and']"
      ]
     },
     "execution_count": 525,
     "metadata": {},
     "output_type": "execute_result"
    }
   ],
   "source": [
    "sorted(dfr.columns, key=lambda x: len(x))"
   ]
  },
  {
   "cell_type": "code",
   "execution_count": 529,
   "metadata": {},
   "outputs": [
    {
     "data": {
      "text/plain": [
       "(449, 8609)"
      ]
     },
     "execution_count": 529,
     "metadata": {},
     "output_type": "execute_result"
    }
   ],
   "source": [
    "len(carticle), sum([len(x) for x in carticle])"
   ]
  },
  {
   "cell_type": "code",
   "execution_count": 532,
   "metadata": {},
   "outputs": [],
   "source": [
    "union_cols = list(set.union(*(set(df.columns) for df in frames)))\n",
    "sorted(union_cols, key=lambda x: len(x))"
   ]
  },
  {
   "cell_type": "code",
   "execution_count": 533,
   "metadata": {},
   "outputs": [
    {
     "data": {
      "text/plain": [
       "['np',\n",
       " 'doi',\n",
       " 'root',\n",
       " 'np_first_occ',\n",
       " 'root_first_occ',\n",
       " 'np_count.table',\n",
       " 'np_count.and_ig_ig',\n",
       " 'np_count.andnot_and_ig',\n",
       " 'np_count.andnot_andnot_and']"
      ]
     },
     "execution_count": 533,
     "metadata": {},
     "output_type": "execute_result"
    }
   ],
   "source": []
  },
  {
   "cell_type": "code",
   "execution_count": 555,
   "metadata": {},
   "outputs": [
    {
     "data": {
      "text/plain": [
       "['10.1525/sop.2004.47.2.189', '10.2307/1556338']"
      ]
     },
     "execution_count": 555,
     "metadata": {},
     "output_type": "execute_result"
    }
   ],
   "source": [
    "all_dois_flat[:5]"
   ]
  },
  {
   "cell_type": "code",
   "execution_count": null,
   "metadata": {},
   "outputs": [],
   "source": []
  }
 ],
 "metadata": {
  "kernelspec": {
   "display_name": "Python 3",
   "language": "python",
   "name": "python3"
  },
  "language_info": {
   "codemirror_mode": {
    "name": "ipython",
    "version": 3
   },
   "file_extension": ".py",
   "mimetype": "text/x-python",
   "name": "python",
   "nbconvert_exporter": "python",
   "pygments_lexer": "ipython3",
   "version": "3.6.7"
  }
 },
 "nbformat": 4,
 "nbformat_minor": 2
}
