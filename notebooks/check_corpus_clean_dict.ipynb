{
 "cells": [
  {
   "cell_type": "code",
   "execution_count": 1,
   "metadata": {},
   "outputs": [],
   "source": [
    "import matplotlib.pyplot as plt\n",
    "from os.path import expanduser, join, isfile\n",
    "import gzip\n",
    "import pickle\n",
    "import warnings\n",
    "warnings.filterwarnings(\"ignore\", category=DeprecationWarning) \n",
    "import article_analysis.parse as aap\n",
    "%load_ext autoreload\n",
    "%autoreload 1\n",
    "%aimport article_analysis.parse\n",
    "%matplotlib inline"
   ]
  },
  {
   "cell_type": "code",
   "execution_count": 2,
   "metadata": {},
   "outputs": [],
   "source": [
    "fpath = expanduser('~/data/jstor/ngrams_new')\n",
    "destpath = fpath"
   ]
  },
  {
   "cell_type": "code",
   "execution_count": 3,
   "metadata": {},
   "outputs": [],
   "source": [
    "fname = join(fpath, 'corpus_clean_dict.pgz')\n",
    "with gzip.open(fname) as fp:\n",
    "    adict = pickle.load(fp)"
   ]
  },
  {
   "cell_type": "code",
   "execution_count": 4,
   "metadata": {},
   "outputs": [
    {
     "data": {
      "text/plain": [
       "dict_keys(['10.2307/20159591', '10.2307/254967', '10.2307/255998', '10.2307/2393375', '10.2307/256462', '10.2307/2393420', '10.2307/2393638', '10.2307/255009', '10.2307/256798', '10.2307/2392262', '10.2307/255954', '10.2307/255131', '10.2307/255643', '10.2307/255054', '10.2307/256303', '10.2307/256755', '10.2307/258901', '10.2307/20159380', '10.2307/256813', '10.2307/257542'])"
      ]
     },
     "execution_count": 4,
     "metadata": {},
     "output_type": "execute_result"
    }
   ],
   "source": [
    "adict.keys()"
   ]
  },
  {
   "cell_type": "code",
   "execution_count": 5,
   "metadata": {},
   "outputs": [
    {
     "data": {
      "text/plain": [
       "[['Vol', '.', '47', ',', 'No', '.', '3', ',', '422', '-', '.'],\n",
       " ['GOAL',\n",
       "  'SETTING',\n",
       "  'AS',\n",
       "  'A',\n",
       "  'MOTIVATOR',\n",
       "  'OF',\n",
       "  'UNETHICAL',\n",
       "  'BEHAVIOR',\n",
       "  'MAURICE',\n",
       "  'E',\n",
       "  '.'],\n",
       " ['SCHWEITZER',\n",
       "  'University',\n",
       "  'of',\n",
       "  'Pennsylvania',\n",
       "  'LISA',\n",
       "  'ORDONEZ',\n",
       "  'University',\n",
       "  'of',\n",
       "  'Arizona',\n",
       "  'BAMBI',\n",
       "  'DOUMA',\n",
       "  'University',\n",
       "  'of',\n",
       "  'Montana',\n",
       "  'We',\n",
       "  'explored',\n",
       "  'the',\n",
       "  'role',\n",
       "  'of',\n",
       "  'goal',\n",
       "  'setting',\n",
       "  'in',\n",
       "  'motivating',\n",
       "  'unethical',\n",
       "  'behavior',\n",
       "  'in',\n",
       "  'a',\n",
       "  'laboratory',\n",
       "  'experiment',\n",
       "  '.'],\n",
       " ['We',\n",
       "  'found',\n",
       "  'that',\n",
       "  'people',\n",
       "  'with',\n",
       "  'unmet',\n",
       "  'goals',\n",
       "  'were',\n",
       "  'more',\n",
       "  'likely',\n",
       "  'to',\n",
       "  'engage',\n",
       "  'in',\n",
       "  'unethical',\n",
       "  'behavior',\n",
       "  'than',\n",
       "  'people',\n",
       "  'attempting',\n",
       "  'to',\n",
       "  'do',\n",
       "  'their',\n",
       "  'best',\n",
       "  '.'],\n",
       " ['This',\n",
       "  'relationship',\n",
       "  'held',\n",
       "  'for',\n",
       "  'goals',\n",
       "  'both',\n",
       "  'with',\n",
       "  'and',\n",
       "  'without',\n",
       "  'economic',\n",
       "  'incentives',\n",
       "  '.']]"
      ]
     },
     "execution_count": 5,
     "metadata": {},
     "output_type": "execute_result"
    }
   ],
   "source": [
    "adict['10.2307/20159591'][:5]"
   ]
  },
  {
   "cell_type": "code",
   "execution_count": null,
   "metadata": {},
   "outputs": [],
   "source": []
  }
 ],
 "metadata": {
  "kernelspec": {
   "display_name": "Python 3",
   "language": "python",
   "name": "python3"
  },
  "language_info": {
   "codemirror_mode": {
    "name": "ipython",
    "version": 3
   },
   "file_extension": ".py",
   "mimetype": "text/x-python",
   "name": "python",
   "nbconvert_exporter": "python",
   "pygments_lexer": "ipython3",
   "version": "3.6.6"
  }
 },
 "nbformat": 4,
 "nbformat_minor": 2
}
