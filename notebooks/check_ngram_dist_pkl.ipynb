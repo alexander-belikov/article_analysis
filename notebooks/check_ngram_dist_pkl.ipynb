{
 "cells": [
  {
   "cell_type": "code",
   "execution_count": 1,
   "metadata": {},
   "outputs": [],
   "source": [
    "import matplotlib.pyplot as plt\n",
    "from os.path import expanduser, join, isfile\n",
    "import gzip\n",
    "import pickle\n",
    "import article_analysis.parse as aap\n",
    "import article_analysis.ngram_tools as aan\n",
    "import numpy as np\n",
    "\n",
    "%load_ext autoreload\n",
    "%autoreload 1\n",
    "%aimport article_analysis.parse\n",
    "%aimport article_analysis.ngram_tools\n",
    "%matplotlib inline"
   ]
  },
  {
   "cell_type": "code",
   "execution_count": 16,
   "metadata": {},
   "outputs": [],
   "source": [
    "fpath = expanduser('~/data/jstor/latest/')\n",
    "fname = join(fpath, 'corpus_ngram_dist.pgz')"
   ]
  },
  {
   "cell_type": "code",
   "execution_count": 17,
   "metadata": {},
   "outputs": [],
   "source": [
    "with gzip.open(fname) as fp:\n",
    "    ngram_dict = pickle.load(fp)"
   ]
  },
  {
   "cell_type": "code",
   "execution_count": 18,
   "metadata": {},
   "outputs": [],
   "source": [
    "ng1 = ngram_dict[1]\n",
    "kk = list(ng1.keys())"
   ]
  },
  {
   "cell_type": "code",
   "execution_count": 19,
   "metadata": {},
   "outputs": [
    {
     "data": {
      "text/plain": [
       "0.0"
      ]
     },
     "execution_count": 19,
     "metadata": {},
     "output_type": "execute_result"
    }
   ],
   "source": [
    "ch_sum = [v[-1] + v[-2] for v in ng1.values()]\n",
    "np.std(ch_sum)"
   ]
  },
  {
   "cell_type": "code",
   "execution_count": 20,
   "metadata": {},
   "outputs": [
    {
     "data": {
      "text/plain": [
       "{'origin': (8.602239334943672e-05,\n",
       "  5.0277401836537034e-05,\n",
       "  0.0001295558975649147,\n",
       "  12.5,\n",
       "  145298.5),\n",
       " 'structural': (0.0019716332555690897,\n",
       "  0.001784200203012713,\n",
       "  0.002166858813772876,\n",
       "  286.5,\n",
       "  145024.5),\n",
       " 'hole': (0.0010838821562029028,\n",
       "  0.000945910217506687,\n",
       "  0.0012296592791674055,\n",
       "  157.5,\n",
       "  145153.5),\n",
       " 'akbar': (1.0322687201932407e-05,\n",
       "  1.210676175389805e-06,\n",
       "  2.688953368834568e-05,\n",
       "  1.5,\n",
       "  145309.5),\n",
       " 'zaheer': (9.290418481739166e-05,\n",
       "  5.557649763037392e-05,\n",
       "  0.00013802294766840362,\n",
       "  13.5,\n",
       "  145297.5),\n",
       " 'university': (0.0038847712836605625,\n",
       "  0.0036202893682920597,\n",
       "  0.004157016493512966,\n",
       "  564.5,\n",
       "  144746.5),\n",
       " 'minnesota': (5.849522747761697e-05,\n",
       "  2.9839152915750632e-05,\n",
       "  9.4922972349476e-05,\n",
       "  8.5,\n",
       "  145302.5),\n",
       " 'giuseppe': (1.0322687201932407e-05,\n",
       "  1.210676175389805e-06,\n",
       "  2.688953368834568e-05,\n",
       "  1.5,\n",
       "  145309.5),\n",
       " 'soda': (4.47316445417071e-05,\n",
       "  2.0273608555583896e-05,\n",
       "  7.694444761363606e-05,\n",
       "  6.5,\n",
       "  145304.5),\n",
       " 'bocconi': (2.4086270137842284e-05,\n",
       "  7.457712723825675e-06,\n",
       "  4.8403141589270504e-05,\n",
       "  3.5,\n",
       "  145307.5)}"
      ]
     },
     "execution_count": 20,
     "metadata": {},
     "output_type": "execute_result"
    }
   ],
   "source": [
    "{k: ng1[k] for k in kk[:10]}"
   ]
  },
  {
   "cell_type": "code",
   "execution_count": null,
   "metadata": {},
   "outputs": [],
   "source": []
  }
 ],
 "metadata": {
  "kernelspec": {
   "display_name": "Python 3",
   "language": "python",
   "name": "python3"
  },
  "language_info": {
   "codemirror_mode": {
    "name": "ipython",
    "version": 3
   },
   "file_extension": ".py",
   "mimetype": "text/x-python",
   "name": "python",
   "nbconvert_exporter": "python",
   "pygments_lexer": "ipython3",
   "version": "3.6.6"
  }
 },
 "nbformat": 4,
 "nbformat_minor": 2
}
