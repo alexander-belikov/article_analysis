{
 "cells": [
  {
   "cell_type": "code",
   "execution_count": 1,
   "metadata": {},
   "outputs": [],
   "source": [
    "import matplotlib.pyplot as plt\n",
    "from os.path import expanduser, join, isfile\n",
    "import gzip\n",
    "import pickle\n",
    "import article_analysis.parse as aap\n",
    "import article_analysis.ngram_tools as aan\n",
    "import numpy as np\n",
    "\n",
    "%load_ext autoreload\n",
    "%autoreload 1\n",
    "%aimport article_analysis.parse\n",
    "%aimport article_analysis.ngram_tools\n",
    "%matplotlib inline"
   ]
  },
  {
   "cell_type": "code",
   "execution_count": 2,
   "metadata": {},
   "outputs": [],
   "source": [
    "fpath = expanduser('~/data/jstor/latest/')\n",
    "fname = join(fpath, 'corpus_ngram_dist.pgz')"
   ]
  },
  {
   "cell_type": "code",
   "execution_count": 3,
   "metadata": {},
   "outputs": [],
   "source": [
    "with gzip.open(fname) as fp:\n",
    "    ngram_dict = pickle.load(fp)"
   ]
  },
  {
   "cell_type": "code",
   "execution_count": 4,
   "metadata": {},
   "outputs": [],
   "source": [
    "ng1 = ngram_dict[1]\n",
    "kk = list(ng1.keys())"
   ]
  },
  {
   "cell_type": "code",
   "execution_count": 5,
   "metadata": {},
   "outputs": [
    {
     "data": {
      "text/plain": [
       "0.0"
      ]
     },
     "execution_count": 5,
     "metadata": {},
     "output_type": "execute_result"
    }
   ],
   "source": [
    "ch_sum = [v[-1] + v[-2] for v in ng1.values()]\n",
    "np.std(ch_sum)"
   ]
  },
  {
   "cell_type": "code",
   "execution_count": 6,
   "metadata": {},
   "outputs": [
    {
     "data": {
      "text/plain": [
       "{'origin': (0.00016175745624845945,\n",
       "  8.928868740230298e-05,\n",
       "  0.00025164342869166134,\n",
       "  10.5,\n",
       "  64901.5),\n",
       " 'structural': (0.0030887971407443926,\n",
       "  0.002739461230618032,\n",
       "  0.003455536793279479,\n",
       "  200.5,\n",
       "  64711.5),\n",
       " 'hole': (0.002410956371703229,\n",
       "  0.0021032932529127684,\n",
       "  0.00273604564563501,\n",
       "  156.5,\n",
       "  64755.5),\n",
       " 'akbar': (2.3108208035494206e-05,\n",
       "  2.710227820065223e-06,\n",
       "  6.0194133490343305e-05,\n",
       "  1.5,\n",
       "  64910.5),\n",
       " 'zaheer': (0.00017716292827212225,\n",
       "  0.00010083740035637346,\n",
       "  0.0002709135721630229,\n",
       "  11.5,\n",
       "  64900.5),\n",
       " 'university': (0.0033815011091939857,\n",
       "  0.003015615519873041,\n",
       "  0.003764780597019901,\n",
       "  219.5,\n",
       "  64692.5),\n",
       " 'minnesota': (0.00011554104017747103,\n",
       "  5.593123220687892e-05,\n",
       "  0.00019253004360986203,\n",
       "  7.5,\n",
       "  64904.5),\n",
       " 'giuseppe': (2.3108208035494206e-05,\n",
       "  2.710227820065223e-06,\n",
       "  6.0194133490343305e-05,\n",
       "  1.5,\n",
       "  64910.5),\n",
       " 'soda': (0.00010013556815380824,\n",
       "  4.538506768132785e-05,\n",
       "  0.00017224394895898332,\n",
       "  6.5,\n",
       "  64905.5),\n",
       " 'bocconi': (5.391915208281982e-05,\n",
       "  1.669496352664498e-05,\n",
       "  0.00010835335468828422,\n",
       "  3.5,\n",
       "  64908.5)}"
      ]
     },
     "execution_count": 6,
     "metadata": {},
     "output_type": "execute_result"
    }
   ],
   "source": [
    "{k: ng1[k] for k in kk[:10]}"
   ]
  },
  {
   "cell_type": "code",
   "execution_count": null,
   "metadata": {},
   "outputs": [],
   "source": []
  }
 ],
 "metadata": {
  "kernelspec": {
   "display_name": "Python 3",
   "language": "python",
   "name": "python3"
  },
  "language_info": {
   "codemirror_mode": {
    "name": "ipython",
    "version": 3
   },
   "file_extension": ".py",
   "mimetype": "text/x-python",
   "name": "python",
   "nbconvert_exporter": "python",
   "pygments_lexer": "ipython3",
   "version": "3.6.6"
  }
 },
 "nbformat": 4,
 "nbformat_minor": 2
}
