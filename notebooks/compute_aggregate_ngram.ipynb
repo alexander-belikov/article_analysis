{
 "cells": [
  {
   "cell_type": "code",
   "execution_count": 1,
   "metadata": {},
   "outputs": [],
   "source": [
    "import matplotlib.pyplot as plt\n",
    "from os.path import expanduser, join, isfile\n",
    "import gzip\n",
    "import pickle\n",
    "import article_analysis.parse as aap\n",
    "from collections import Counter\n",
    "\n",
    "%load_ext autoreload\n",
    "%autoreload 1\n",
    "%aimport article_analysis.parse\n",
    "%matplotlib inline"
   ]
  },
  {
   "cell_type": "code",
   "execution_count": 2,
   "metadata": {},
   "outputs": [
    {
     "name": "stdout",
     "output_type": "stream",
     "text": [
      "[1, 2, 3, 4, 5, 6, 7, 8, 9, 10, 11, 12, 13, 14, 15, 16, 17, 18, 19, 20, 21, 22, 23, 24, 25, 26, 27, 28, 29]\n"
     ]
    }
   ],
   "source": [
    "fpath = expanduser('~/data/jstor/ngrams_new2/')\n",
    "destpath = fpath\n",
    "suffix = 'pgz'\n",
    "prefix = 'ngrams_corpus'\n",
    "indx = aap.get_indices(fpath, prefix, suffix)\n",
    "print(indx)"
   ]
  },
  {
   "cell_type": "code",
   "execution_count": 3,
   "metadata": {},
   "outputs": [
    {
     "name": "stdout",
     "output_type": "stream",
     "text": [
      "1 chunks procs\n",
      "2 chunks procs\n",
      "3 chunks procs\n",
      "4 chunks procs\n",
      "5 chunks procs\n",
      "6 chunks procs\n",
      "7 chunks procs\n",
      "8 chunks procs\n",
      "9 chunks procs\n",
      "10 chunks procs\n",
      "11 chunks procs\n",
      "12 chunks procs\n",
      "13 chunks procs\n",
      "14 chunks procs\n",
      "15 chunks procs\n",
      "16 chunks procs\n",
      "17 chunks procs\n",
      "18 chunks procs\n",
      "19 chunks procs\n",
      "20 chunks procs\n",
      "21 chunks procs\n",
      "22 chunks procs\n",
      "23 chunks procs\n",
      "24 chunks procs\n",
      "25 chunks procs\n",
      "26 chunks procs\n",
      "27 chunks procs\n",
      "28 chunks procs\n",
      "29 chunks procs\n"
     ]
    }
   ],
   "source": [
    "super_ngram = {i: Counter() for i in range(1, 6)}\n",
    "for ii in indx[:]:\n",
    "    chunk = aap.get_chunk(fpath, 'ngrams_corpus', ii)\n",
    "    ckeys = sorted(chunk.keys())\n",
    "    for k in ckeys:\n",
    "        for o in range(1, 6):\n",
    "            super_ngram[o] += chunk[k][o]\n",
    "    print('{0} chunks procs'.format(ii))"
   ]
  },
  {
   "cell_type": "code",
   "execution_count": 4,
   "metadata": {},
   "outputs": [
    {
     "name": "stdout",
     "output_type": "stream",
     "text": [
      "6398379 22982492\n",
      "15290166 20700956\n",
      "16330241 18692950\n",
      "15431272 16911003\n"
     ]
    }
   ],
   "source": [
    "for o in range(1, 6):\n",
    "    s = sum([x for x in super_ngram[o].values()])\n",
    "    print(len(super_ngram[o]), s)"
   ]
  },
  {
   "cell_type": "code",
   "execution_count": 5,
   "metadata": {},
   "outputs": [],
   "source": [
    "with gzip.open(join(destpath, 'lemma_ngrams_corpus_total.pgz'.format(ii)), 'wb') as fp:\n",
    "        pickle.dump(super_ngram, fp)"
   ]
  }
 ],
 "metadata": {
  "kernelspec": {
   "display_name": "Python 3",
   "language": "python",
   "name": "python3"
  },
  "language_info": {
   "codemirror_mode": {
    "name": "ipython",
    "version": 3
   },
   "file_extension": ".py",
   "mimetype": "text/x-python",
   "name": "python",
   "nbconvert_exporter": "python",
   "pygments_lexer": "ipython3",
   "version": "3.6.6"
  }
 },
 "nbformat": 4,
 "nbformat_minor": 2
}
